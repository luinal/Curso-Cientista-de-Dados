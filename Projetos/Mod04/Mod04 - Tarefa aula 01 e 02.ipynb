{
 "cells": [
  {
   "cell_type": "raw",
   "metadata": {},
   "source": [
    "# Tarefa 01\n",
    "\n",
    "- Leia os enunciados com atenção\n",
    "- Saiba que pode haver mais de uma resposta correta\n",
    "- Insira novas células de código sempre que achar necessário\n",
    "- Em caso de dúvidas, procure os tutores\n",
    "- Divirta-se :)\n",
    "\n",
    "#### 1)  crie uma série do pandas a partir de uma lista com os dados abaixo:\n",
    "\n",
    "Em um estudo sobre alteração na tempreatura global, A NASA disponibiliza dados de diferenças de de temperatura média da superfície terrestre relativos às médias de temperatura entre 1951 e 1980. Os dados originais podem ser vistos no site da NASA/GISS, e estão dispostos a cada década na tabela abaixo.\n",
    "\n",
    "|ano|anomalia termica|\n",
    "|:-:|:----:|\n",
    "| 1900 | -0.08 |\n",
    "| 1920 | -0.27 |\n",
    "| 1940 | 0.12 |\n",
    "| 1960 | -0.03 |\n",
    "| 1980 | 0.26 |\n",
    "| 2000 | 0.40 |\n",
    "| 2020 | 1.02 |\n",
    "\n",
    "Crie uma séries do Pandas a partir de uma lista com esses dados."
   ]
  },
  {
   "cell_type": "code",
   "execution_count": 12,
   "metadata": {},
   "outputs": [
    {
     "data": {
      "text/plain": [
       "0   -0.08\n",
       "1   -0.27\n",
       "2    0.12\n",
       "3   -0.03\n",
       "4    0.26\n",
       "5    0.40\n",
       "6    1.02\n",
       "dtype: float64"
      ]
     },
     "execution_count": 12,
     "metadata": {},
     "output_type": "execute_result"
    }
   ],
   "source": [
    "import pandas as pd\n",
    "import numpy as np\n",
    "\n",
    "# Seu código aqui\n",
    "dados = [-0.08, -0.27, 0.12, -0.03, 0.26, 0.40, 1.02]\n",
    "anoSemIndex = pd.Series(dados)\n",
    "anoSemIndex"
   ]
  },
  {
   "cell_type": "markdown",
   "metadata": {},
   "source": [
    "#### 2) Coloque os anos nos índices conforme a tabela."
   ]
  },
  {
   "cell_type": "code",
   "execution_count": 13,
   "metadata": {},
   "outputs": [
    {
     "data": {
      "text/plain": [
       "1900   -0.08\n",
       "1920   -0.27\n",
       "1940    0.12\n",
       "1960   -0.03\n",
       "1980    0.26\n",
       "2000    0.40\n",
       "2020    1.02\n",
       "dtype: float64"
      ]
     },
     "execution_count": 13,
     "metadata": {},
     "output_type": "execute_result"
    }
   ],
   "source": [
    "# seu código aqui\n",
    "anoComIndex = pd.Series(dados,index=[1900, 1920, 1940, 1960, 1980, 2000, 2020])\n",
    "anoComIndex"
   ]
  },
  {
   "cell_type": "markdown",
   "metadata": {},
   "source": [
    "#### 3) A partir do dicionário abaixo, crie uma séries do Pandas:"
   ]
  },
  {
   "cell_type": "code",
   "execution_count": 14,
   "metadata": {},
   "outputs": [
    {
     "data": {
      "text/plain": [
       "1900   -0.08\n",
       "1920   -0.27\n",
       "1940    0.12\n",
       "1960   -0.03\n",
       "1980    0.26\n",
       "2000    0.40\n",
       "2020    1.02\n",
       "dtype: float64"
      ]
     },
     "execution_count": 14,
     "metadata": {},
     "output_type": "execute_result"
    }
   ],
   "source": [
    "dic_temperaturas = {1900: -.08, 1920: -.27, 1940: .12, 1960: -.03, 1980: .26, 2000: .40, 2020: 1.02}\n",
    "\n",
    "# seu código aqui\n",
    "\n",
    "tempSeries = pd.Series(dic_temperaturas)\n",
    "tempSeries"
   ]
  },
  {
   "cell_type": "markdown",
   "metadata": {},
   "source": [
    "#### 4) Transforme o ndarray abaixo em um dataframe. \n",
    "O numpy é capaz de gerar arrays n-dimensionais com números pseudo-aleatórios de acordo com uma variedade de distribuições, como no exemplo abaixo. Transforme esse nd-array em um DataFrame."
   ]
  },
  {
   "cell_type": "code",
   "execution_count": 22,
   "metadata": {},
   "outputs": [
    {
     "name": "stdout",
     "output_type": "stream",
     "text": [
      "             0           1           2\n",
      "0   122.055749   89.616098   98.859899\n",
      "1   105.699086   96.868287  100.584854\n",
      "2    88.160905   92.798482   84.210200\n",
      "3    91.384337   82.006360  102.343435\n",
      "4   112.851644   94.091354   97.160210\n",
      "5    78.562777   95.391478   97.483820\n",
      "6    96.342310   83.460087  107.958096\n",
      "7   106.810233   97.369632   94.278916\n",
      "8   103.478030  109.511401   84.431731\n",
      "9   103.843761   92.409556   82.257316\n",
      "10  103.916543  111.681683  102.133516\n",
      "11   97.288584  108.351105  111.829881\n",
      "12  114.241321  108.472747   97.269719\n",
      "13  115.332785   91.582215   98.112137\n",
      "14  122.168856   97.570346  116.561800\n",
      "15  106.628426   96.286691  105.664982\n",
      "16  100.979044  101.327691  112.201558\n",
      "17  101.366167   94.526260  115.354646\n",
      "18   91.094308  109.235479   99.587652\n",
      "19   99.368509  101.652492   94.392700\n"
     ]
    }
   ],
   "source": [
    "arr = np.random.normal(100, 10, (20,3))\n",
    "\n",
    "# seu código aqui\n",
    "df = pd.DataFrame(arr)\n",
    "print(df)"
   ]
  },
  {
   "cell_type": "markdown",
   "metadata": {},
   "source": [
    "#### 5) Nomeie os índices das linhas com inteiros de 1 a 20, e as colunas com os nomes \"x1\", \"x2\", e \"x3\" respectivamente."
   ]
  },
  {
   "cell_type": "code",
   "execution_count": 24,
   "metadata": {},
   "outputs": [
    {
     "name": "stdout",
     "output_type": "stream",
     "text": [
      "            x1          x2          x3\n",
      "1   122.055749   89.616098   98.859899\n",
      "2   105.699086   96.868287  100.584854\n",
      "3    88.160905   92.798482   84.210200\n",
      "4    91.384337   82.006360  102.343435\n",
      "5   112.851644   94.091354   97.160210\n",
      "6    78.562777   95.391478   97.483820\n",
      "7    96.342310   83.460087  107.958096\n",
      "8   106.810233   97.369632   94.278916\n",
      "9   103.478030  109.511401   84.431731\n",
      "10  103.843761   92.409556   82.257316\n",
      "11  103.916543  111.681683  102.133516\n",
      "12   97.288584  108.351105  111.829881\n",
      "13  114.241321  108.472747   97.269719\n",
      "14  115.332785   91.582215   98.112137\n",
      "15  122.168856   97.570346  116.561800\n",
      "16  106.628426   96.286691  105.664982\n",
      "17  100.979044  101.327691  112.201558\n",
      "18  101.366167   94.526260  115.354646\n",
      "19   91.094308  109.235479   99.587652\n",
      "20   99.368509  101.652492   94.392700\n"
     ]
    }
   ],
   "source": [
    "#seu código aqui\n",
    "df.index = range(1,21)\n",
    "df.columns = ['x1', 'x2', 'x3']\n",
    "print(df)"
   ]
  },
  {
   "cell_type": "markdown",
   "metadata": {},
   "source": [
    "#### 6) No DataFrame do exercício 5, crie uma nova coluna como sendo a média das três colunas, e dê a ela o nome de \"media\" (não recomendo colocar acentos em nomes de variáveis)."
   ]
  },
  {
   "cell_type": "code",
   "execution_count": 25,
   "metadata": {},
   "outputs": [
    {
     "name": "stdout",
     "output_type": "stream",
     "text": [
      "            x1          x2          x3       media\n",
      "1   122.055749   89.616098   98.859899  103.510582\n",
      "2   105.699086   96.868287  100.584854  101.050742\n",
      "3    88.160905   92.798482   84.210200   88.389862\n",
      "4    91.384337   82.006360  102.343435   91.911377\n",
      "5   112.851644   94.091354   97.160210  101.367736\n",
      "6    78.562777   95.391478   97.483820   90.479359\n",
      "7    96.342310   83.460087  107.958096   95.920165\n",
      "8   106.810233   97.369632   94.278916   99.486260\n",
      "9   103.478030  109.511401   84.431731   99.140388\n",
      "10  103.843761   92.409556   82.257316   92.836878\n",
      "11  103.916543  111.681683  102.133516  105.910581\n",
      "12   97.288584  108.351105  111.829881  105.823190\n",
      "13  114.241321  108.472747   97.269719  106.661263\n",
      "14  115.332785   91.582215   98.112137  101.675712\n",
      "15  122.168856   97.570346  116.561800  112.100334\n",
      "16  106.628426   96.286691  105.664982  102.860033\n",
      "17  100.979044  101.327691  112.201558  104.836098\n",
      "18  101.366167   94.526260  115.354646  103.749024\n",
      "19   91.094308  109.235479   99.587652   99.972480\n",
      "20   99.368509  101.652492   94.392700   98.471234\n"
     ]
    }
   ],
   "source": [
    "# seu código aqui\n",
    "df['media'] = df.mean(axis=1)\n",
    "print(df)"
   ]
  },
  {
   "cell_type": "markdown",
   "metadata": {},
   "source": [
    "#### 7) No DataFrame do exercício 6, crie uma nova coluna chamada \"log_med\", contendo o logaritmo natural da média calculada no exercício 6 <br>"
   ]
  },
  {
   "cell_type": "code",
   "execution_count": 27,
   "metadata": {},
   "outputs": [
    {
     "name": "stdout",
     "output_type": "stream",
     "text": [
      "            x1          x2          x3       media   log_med\n",
      "1   122.055749   89.616098   98.859899  103.510582  4.639674\n",
      "2   105.699086   96.868287  100.584854  101.050742  4.615623\n",
      "3    88.160905   92.798482   84.210200   88.389862  4.481757\n",
      "4    91.384337   82.006360  102.343435   91.911377  4.520825\n",
      "5   112.851644   94.091354   97.160210  101.367736  4.618755\n",
      "6    78.562777   95.391478   97.483820   90.479359  4.505122\n",
      "7    96.342310   83.460087  107.958096   95.920165  4.563516\n",
      "8   106.810233   97.369632   94.278916   99.486260  4.600020\n",
      "9   103.478030  109.511401   84.431731   99.140388  4.596537\n",
      "10  103.843761   92.409556   82.257316   92.836878  4.530844\n",
      "11  103.916543  111.681683  102.133516  105.910581  4.662595\n",
      "12   97.288584  108.351105  111.829881  105.823190  4.661770\n",
      "13  114.241321  108.472747   97.269719  106.661263  4.669658\n",
      "14  115.332785   91.582215   98.112137  101.675712  4.621788\n",
      "15  122.168856   97.570346  116.561800  112.100334  4.719394\n",
      "16  106.628426   96.286691  105.664982  102.860033  4.633369\n",
      "17  100.979044  101.327691  112.201558  104.836098  4.652398\n",
      "18  101.366167   94.526260  115.354646  103.749024  4.641975\n",
      "19   91.094308  109.235479   99.587652   99.972480  4.604895\n",
      "20   99.368509  101.652492   94.392700   98.471234  4.589764\n"
     ]
    }
   ],
   "source": [
    "# seu código aqui\n",
    "df['log_med'] = np.log(df['media'])\n",
    "print(df)"
   ]
  },
  {
   "cell_type": "code",
   "execution_count": null,
   "metadata": {},
   "outputs": [],
   "source": []
  }
 ],
 "metadata": {
  "kernelspec": {
   "display_name": "Python 3 (ipykernel)",
   "language": "python",
   "name": "python3"
  },
  "language_info": {
   "codemirror_mode": {
    "name": "ipython",
    "version": 3
   },
   "file_extension": ".py",
   "mimetype": "text/x-python",
   "name": "python",
   "nbconvert_exporter": "python",
   "pygments_lexer": "ipython3",
   "version": "3.11.5"
  }
 },
 "nbformat": 4,
 "nbformat_minor": 4
}
