{
 "cells": [
  {
   "cell_type": "markdown",
   "metadata": {
    "id": "njUvbhQmC8-t"
   },
   "source": [
    "## Exercício 1: Vestibular\n",
    "\n",
    "Considere que a os dados gerados na célula abaixo contêm o número de acertos de 100 alunos em um vestibular para um curso de exatas, divididas pelos respectivos assuntos. Considere que cada assunto possui um número de questões conforme a tabela abaixo:\n",
    "\n",
    "| assunto | número de questões |\n",
    "|:---:|:---:|\n",
    "| Matemática | 24 |\n",
    "| Português | 18 |\n",
    "| Geografia | 8 |\n",
    "| Inglês | 8 |\n",
    "| História | 8 |\n",
    "| Física | 12 |\n",
    "| Química | 12 |\n",
    "\n",
    "Usando os comandos de operações com DataFrames que você aprendeu na Aula 03, calcule:\n",
    "\n",
    "1. (operações com escalar) Calcule o percentual de acerto dos alunos por assunto.  \n",
    "2. (operações entre *DataFrames) Calcule o total de acertos de cada aluno.  \n",
    "3. Calcule o porcentual geral de cada aluno.  \n",
    "4. Suponha que a nota de corte para a segunda fase seja 45. Quantos alunos tiveram nota maior que 45?  "
   ]
  },
  {
   "cell_type": "code",
   "execution_count": 1,
   "metadata": {
    "id": "Ll6TadxCC8-y"
   },
   "outputs": [],
   "source": [
    "import pandas as pd\n",
    "import numpy as np\n",
    "\n",
    "np.random.seed(42)\n",
    "df_mat = pd.DataFrame(np.random.randint(24, size=(100, 1)), columns=['Qt_acertos'])\n",
    "\n",
    "df_por = pd.DataFrame(np.random.randint(18, size=(100, 1)), columns=['Qt_acertos'])\n",
    "\n",
    "df_geo = pd.DataFrame(np.random.randint(8, size=(100, 1)), columns=['Qt_acertos'])\n",
    "\n",
    "df_ing = pd.DataFrame(np.random.randint(8, size=(100, 1)), columns=['Qt_acertos'])\n",
    "\n",
    "df_his = pd.DataFrame(np.random.randint(8, size=(100, 1)), columns=['Qt_acertos'])\n",
    "\n",
    "df_fis = pd.DataFrame(np.random.randint(12, size=(100, 1)), columns=['Qt_acertos'])\n",
    "\n",
    "df_qui = pd.DataFrame(np.random.randint(12, size=(100, 1)), columns=['Qt_acertos'])"
   ]
  },
  {
   "cell_type": "code",
   "execution_count": 2,
   "metadata": {
    "id": "JVmLXiC2C8-0"
   },
   "outputs": [],
   "source": [
    "# 1) (operações com escalar) Calcule o percentual de acerto dos alunos por assunto.\n",
    "\n",
    "df_matp = 100 * df_mat / 24 \n",
    "df_porp = 100 * df_por / 18\n",
    "df_geop = 100 * df_geo / 8\n",
    "df_ingp = 100 * df_ing / 8\n",
    "df_hisp = 100 * df_his / 8\n",
    "df_fisp = 100 * df_fis / 12\n",
    "df_quip = 100 * df_qui / 12\n"
   ]
  },
  {
   "cell_type": "code",
   "execution_count": 3,
   "metadata": {
    "id": "JbTwCyNHC8-1"
   },
   "outputs": [
    {
     "data": {
      "text/html": [
       "<div>\n",
       "<style scoped>\n",
       "    .dataframe tbody tr th:only-of-type {\n",
       "        vertical-align: middle;\n",
       "    }\n",
       "\n",
       "    .dataframe tbody tr th {\n",
       "        vertical-align: top;\n",
       "    }\n",
       "\n",
       "    .dataframe thead th {\n",
       "        text-align: right;\n",
       "    }\n",
       "</style>\n",
       "<table border=\"1\" class=\"dataframe\">\n",
       "  <thead>\n",
       "    <tr style=\"text-align: right;\">\n",
       "      <th></th>\n",
       "      <th>total_aluno</th>\n",
       "    </tr>\n",
       "  </thead>\n",
       "  <tbody>\n",
       "    <tr>\n",
       "      <th>0</th>\n",
       "      <td>35</td>\n",
       "    </tr>\n",
       "    <tr>\n",
       "      <th>1</th>\n",
       "      <td>48</td>\n",
       "    </tr>\n",
       "    <tr>\n",
       "      <th>2</th>\n",
       "      <td>50</td>\n",
       "    </tr>\n",
       "    <tr>\n",
       "      <th>3</th>\n",
       "      <td>32</td>\n",
       "    </tr>\n",
       "    <tr>\n",
       "      <th>4</th>\n",
       "      <td>30</td>\n",
       "    </tr>\n",
       "    <tr>\n",
       "      <th>...</th>\n",
       "      <td>...</td>\n",
       "    </tr>\n",
       "    <tr>\n",
       "      <th>95</th>\n",
       "      <td>34</td>\n",
       "    </tr>\n",
       "    <tr>\n",
       "      <th>96</th>\n",
       "      <td>27</td>\n",
       "    </tr>\n",
       "    <tr>\n",
       "      <th>97</th>\n",
       "      <td>40</td>\n",
       "    </tr>\n",
       "    <tr>\n",
       "      <th>98</th>\n",
       "      <td>40</td>\n",
       "    </tr>\n",
       "    <tr>\n",
       "      <th>99</th>\n",
       "      <td>42</td>\n",
       "    </tr>\n",
       "  </tbody>\n",
       "</table>\n",
       "<p>100 rows × 1 columns</p>\n",
       "</div>"
      ],
      "text/plain": [
       "    total_aluno\n",
       "0            35\n",
       "1            48\n",
       "2            50\n",
       "3            32\n",
       "4            30\n",
       "..          ...\n",
       "95           34\n",
       "96           27\n",
       "97           40\n",
       "98           40\n",
       "99           42\n",
       "\n",
       "[100 rows x 1 columns]"
      ]
     },
     "execution_count": 3,
     "metadata": {},
     "output_type": "execute_result"
    }
   ],
   "source": [
    "# 2) (operações entre *DataFrames) Calcule o total de acertos de cada aluno.\n",
    "pd.set_option('display.max_rows', 10)\n",
    "df = pd.DataFrame()\n",
    "df['total_aluno']= df_mat + df_por + df_geo + df_ing + df_his + df_fis + df_qui\n",
    "df"
   ]
  },
  {
   "cell_type": "code",
   "execution_count": 4,
   "metadata": {
    "id": "c2L8dJkVC8-3"
   },
   "outputs": [
    {
     "data": {
      "text/html": [
       "<div>\n",
       "<style scoped>\n",
       "    .dataframe tbody tr th:only-of-type {\n",
       "        vertical-align: middle;\n",
       "    }\n",
       "\n",
       "    .dataframe tbody tr th {\n",
       "        vertical-align: top;\n",
       "    }\n",
       "\n",
       "    .dataframe thead th {\n",
       "        text-align: right;\n",
       "    }\n",
       "</style>\n",
       "<table border=\"1\" class=\"dataframe\">\n",
       "  <thead>\n",
       "    <tr style=\"text-align: right;\">\n",
       "      <th></th>\n",
       "      <th>total_aluno</th>\n",
       "      <th>percentual_geral(%)</th>\n",
       "    </tr>\n",
       "  </thead>\n",
       "  <tbody>\n",
       "    <tr>\n",
       "      <th>0</th>\n",
       "      <td>35</td>\n",
       "      <td>38.888889</td>\n",
       "    </tr>\n",
       "    <tr>\n",
       "      <th>1</th>\n",
       "      <td>48</td>\n",
       "      <td>53.333333</td>\n",
       "    </tr>\n",
       "    <tr>\n",
       "      <th>2</th>\n",
       "      <td>50</td>\n",
       "      <td>55.555556</td>\n",
       "    </tr>\n",
       "    <tr>\n",
       "      <th>3</th>\n",
       "      <td>32</td>\n",
       "      <td>35.555556</td>\n",
       "    </tr>\n",
       "    <tr>\n",
       "      <th>4</th>\n",
       "      <td>30</td>\n",
       "      <td>33.333333</td>\n",
       "    </tr>\n",
       "    <tr>\n",
       "      <th>...</th>\n",
       "      <td>...</td>\n",
       "      <td>...</td>\n",
       "    </tr>\n",
       "    <tr>\n",
       "      <th>95</th>\n",
       "      <td>34</td>\n",
       "      <td>37.777778</td>\n",
       "    </tr>\n",
       "    <tr>\n",
       "      <th>96</th>\n",
       "      <td>27</td>\n",
       "      <td>30.000000</td>\n",
       "    </tr>\n",
       "    <tr>\n",
       "      <th>97</th>\n",
       "      <td>40</td>\n",
       "      <td>44.444444</td>\n",
       "    </tr>\n",
       "    <tr>\n",
       "      <th>98</th>\n",
       "      <td>40</td>\n",
       "      <td>44.444444</td>\n",
       "    </tr>\n",
       "    <tr>\n",
       "      <th>99</th>\n",
       "      <td>42</td>\n",
       "      <td>46.666667</td>\n",
       "    </tr>\n",
       "  </tbody>\n",
       "</table>\n",
       "<p>100 rows × 2 columns</p>\n",
       "</div>"
      ],
      "text/plain": [
       "    total_aluno  percentual_geral(%)\n",
       "0            35            38.888889\n",
       "1            48            53.333333\n",
       "2            50            55.555556\n",
       "3            32            35.555556\n",
       "4            30            33.333333\n",
       "..          ...                  ...\n",
       "95           34            37.777778\n",
       "96           27            30.000000\n",
       "97           40            44.444444\n",
       "98           40            44.444444\n",
       "99           42            46.666667\n",
       "\n",
       "[100 rows x 2 columns]"
      ]
     },
     "execution_count": 4,
     "metadata": {},
     "output_type": "execute_result"
    }
   ],
   "source": [
    "# 3) Calcule o porcentual geral de cada aluno. \n",
    "total_questoes = 24 + 18 + 8 + 8 + 8 + 12 + 12\n",
    "\n",
    "df['percentual_geral(%)'] = 100 * df['total_aluno'] / total_questoes\n",
    "df"
   ]
  },
  {
   "cell_type": "code",
   "execution_count": 5,
   "metadata": {
    "id": "PZTZ7DFzC8-3"
   },
   "outputs": [
    {
     "data": {
      "text/plain": [
       "31"
      ]
     },
     "execution_count": 5,
     "metadata": {},
     "output_type": "execute_result"
    }
   ],
   "source": [
    "# 4) Suponha que a nota de corte para a segunda fase seja 45. Quantos alunos tiveram nota maior que 45?\n",
    "qntd_aprovados = (df['total_aluno'] > 45).sum()\n",
    "qntd_aprovados"
   ]
  },
  {
   "cell_type": "markdown",
   "metadata": {
    "id": "Hlfl75XXC8-4"
   },
   "source": [
    "## 2) Vestibular II\n",
    "\n",
    "Ainda sobre o mesmo banco de dados:\n",
    "\n",
    "1. Neste vestibular, quem 'zera' em matemática, física ou química está desqualificado. Monte um novo *DataFrame* com os alunos desqualificados por este critério.\n",
    "2. Quantos são esses alunos?\n",
    "3. Qual a média desses alunos em história e geografia?\n",
    "4. Monte um *DataFrame* com os alunos que passaram para a segunda fase. Repare que estes alunos não podem ter sido desqualificados."
   ]
  },
  {
   "cell_type": "code",
   "execution_count": 6,
   "metadata": {
    "id": "hPaMGXvJC8-4"
   },
   "outputs": [
    {
     "data": {
      "text/html": [
       "<div>\n",
       "<style scoped>\n",
       "    .dataframe tbody tr th:only-of-type {\n",
       "        vertical-align: middle;\n",
       "    }\n",
       "\n",
       "    .dataframe tbody tr th {\n",
       "        vertical-align: top;\n",
       "    }\n",
       "\n",
       "    .dataframe thead th {\n",
       "        text-align: right;\n",
       "    }\n",
       "</style>\n",
       "<table border=\"1\" class=\"dataframe\">\n",
       "  <thead>\n",
       "    <tr style=\"text-align: right;\">\n",
       "      <th></th>\n",
       "      <th>Qt_acertos</th>\n",
       "    </tr>\n",
       "  </thead>\n",
       "  <tbody>\n",
       "    <tr>\n",
       "      <th>3</th>\n",
       "      <td>0.0</td>\n",
       "    </tr>\n",
       "    <tr>\n",
       "      <th>6</th>\n",
       "      <td>0.0</td>\n",
       "    </tr>\n",
       "    <tr>\n",
       "      <th>...</th>\n",
       "      <td>...</td>\n",
       "    </tr>\n",
       "    <tr>\n",
       "      <th>94</th>\n",
       "      <td>0.0</td>\n",
       "    </tr>\n",
       "    <tr>\n",
       "      <th>98</th>\n",
       "      <td>0.0</td>\n",
       "    </tr>\n",
       "  </tbody>\n",
       "</table>\n",
       "<p>23 rows × 1 columns</p>\n",
       "</div>"
      ],
      "text/plain": [
       "    Qt_acertos\n",
       "3          0.0\n",
       "6          0.0\n",
       "..         ...\n",
       "94         0.0\n",
       "98         0.0\n",
       "\n",
       "[23 rows x 1 columns]"
      ]
     },
     "execution_count": 6,
     "metadata": {},
     "output_type": "execute_result"
    }
   ],
   "source": [
    "# 1. seu código aqui\n",
    "pd.set_option('display.max_rows', 5)\n",
    "\n",
    "df_desq = df_mat[df_mat['Qt_acertos'] == 0] + df_fis[df_fis['Qt_acertos'] == 0] + df_qui[df_qui['Qt_acertos'] == 0]\n",
    "df_desq = df_desq.fillna(0)\n",
    "\n",
    "df_desq"
   ]
  },
  {
   "cell_type": "code",
   "execution_count": 7,
   "metadata": {
    "tags": []
   },
   "outputs": [
    {
     "data": {
      "text/plain": [
       "Qt_acertos    23\n",
       "dtype: int64"
      ]
     },
     "execution_count": 7,
     "metadata": {},
     "output_type": "execute_result"
    }
   ],
   "source": [
    "#2. Quantos são esses alunos?\n",
    "df_desq.count()\n"
   ]
  },
  {
   "cell_type": "code",
   "execution_count": 8,
   "metadata": {
    "tags": []
   },
   "outputs": [],
   "source": [
    "df_desq.drop(columns=['Qt_acertos'], inplace=True)"
   ]
  },
  {
   "cell_type": "code",
   "execution_count": 9,
   "metadata": {
    "tags": []
   },
   "outputs": [
    {
     "data": {
      "text/html": [
       "<div>\n",
       "<style scoped>\n",
       "    .dataframe tbody tr th:only-of-type {\n",
       "        vertical-align: middle;\n",
       "    }\n",
       "\n",
       "    .dataframe tbody tr th {\n",
       "        vertical-align: top;\n",
       "    }\n",
       "\n",
       "    .dataframe thead th {\n",
       "        text-align: right;\n",
       "    }\n",
       "</style>\n",
       "<table border=\"1\" class=\"dataframe\">\n",
       "  <thead>\n",
       "    <tr style=\"text-align: right;\">\n",
       "      <th></th>\n",
       "      <th>Acertos_historia</th>\n",
       "      <th>Acertos_geografia</th>\n",
       "    </tr>\n",
       "  </thead>\n",
       "  <tbody>\n",
       "    <tr>\n",
       "      <th>3</th>\n",
       "      <td>0</td>\n",
       "      <td>3</td>\n",
       "    </tr>\n",
       "    <tr>\n",
       "      <th>6</th>\n",
       "      <td>5</td>\n",
       "      <td>7</td>\n",
       "    </tr>\n",
       "    <tr>\n",
       "      <th>10</th>\n",
       "      <td>1</td>\n",
       "      <td>3</td>\n",
       "    </tr>\n",
       "    <tr>\n",
       "      <th>...</th>\n",
       "      <td>...</td>\n",
       "      <td>...</td>\n",
       "    </tr>\n",
       "    <tr>\n",
       "      <th>92</th>\n",
       "      <td>1</td>\n",
       "      <td>1</td>\n",
       "    </tr>\n",
       "    <tr>\n",
       "      <th>94</th>\n",
       "      <td>1</td>\n",
       "      <td>2</td>\n",
       "    </tr>\n",
       "    <tr>\n",
       "      <th>98</th>\n",
       "      <td>5</td>\n",
       "      <td>3</td>\n",
       "    </tr>\n",
       "  </tbody>\n",
       "</table>\n",
       "<p>23 rows × 2 columns</p>\n",
       "</div>"
      ],
      "text/plain": [
       "    Acertos_historia  Acertos_geografia\n",
       "3                  0                  3\n",
       "6                  5                  7\n",
       "10                 1                  3\n",
       "..               ...                ...\n",
       "92                 1                  1\n",
       "94                 1                  2\n",
       "98                 5                  3\n",
       "\n",
       "[23 rows x 2 columns]"
      ]
     },
     "execution_count": 9,
     "metadata": {},
     "output_type": "execute_result"
    }
   ],
   "source": [
    "#3. Qual a média desses alunos em história e geografia?\n",
    "pd.set_option('display.max_rows', 6)\n",
    "\n",
    "df_desq['Acertos_historia'] = df_his.loc[df_desq.index]\n",
    "df_desq['Acertos_geografia'] = df_geo.loc[df_desq.index]\n",
    "df_desq"
   ]
  },
  {
   "cell_type": "code",
   "execution_count": 10,
   "metadata": {
    "tags": []
   },
   "outputs": [
    {
     "data": {
      "text/html": [
       "<div>\n",
       "<style scoped>\n",
       "    .dataframe tbody tr th:only-of-type {\n",
       "        vertical-align: middle;\n",
       "    }\n",
       "\n",
       "    .dataframe tbody tr th {\n",
       "        vertical-align: top;\n",
       "    }\n",
       "\n",
       "    .dataframe thead th {\n",
       "        text-align: right;\n",
       "    }\n",
       "</style>\n",
       "<table border=\"1\" class=\"dataframe\">\n",
       "  <thead>\n",
       "    <tr style=\"text-align: right;\">\n",
       "      <th></th>\n",
       "      <th>total_aluno</th>\n",
       "      <th>percentual_geral(%)</th>\n",
       "    </tr>\n",
       "  </thead>\n",
       "  <tbody>\n",
       "    <tr>\n",
       "      <th>1</th>\n",
       "      <td>48</td>\n",
       "      <td>53.333333</td>\n",
       "    </tr>\n",
       "    <tr>\n",
       "      <th>2</th>\n",
       "      <td>50</td>\n",
       "      <td>55.555556</td>\n",
       "    </tr>\n",
       "    <tr>\n",
       "      <th>5</th>\n",
       "      <td>50</td>\n",
       "      <td>55.555556</td>\n",
       "    </tr>\n",
       "    <tr>\n",
       "      <th>...</th>\n",
       "      <td>...</td>\n",
       "      <td>...</td>\n",
       "    </tr>\n",
       "    <tr>\n",
       "      <th>81</th>\n",
       "      <td>55</td>\n",
       "      <td>61.111111</td>\n",
       "    </tr>\n",
       "    <tr>\n",
       "      <th>88</th>\n",
       "      <td>50</td>\n",
       "      <td>55.555556</td>\n",
       "    </tr>\n",
       "    <tr>\n",
       "      <th>93</th>\n",
       "      <td>56</td>\n",
       "      <td>62.222222</td>\n",
       "    </tr>\n",
       "  </tbody>\n",
       "</table>\n",
       "<p>26 rows × 2 columns</p>\n",
       "</div>"
      ],
      "text/plain": [
       "    total_aluno  percentual_geral(%)\n",
       "1            48            53.333333\n",
       "2            50            55.555556\n",
       "5            50            55.555556\n",
       "..          ...                  ...\n",
       "81           55            61.111111\n",
       "88           50            55.555556\n",
       "93           56            62.222222\n",
       "\n",
       "[26 rows x 2 columns]"
      ]
     },
     "execution_count": 10,
     "metadata": {},
     "output_type": "execute_result"
    }
   ],
   "source": [
    "#4. Monte um DataFrame com os alunos que passaram para a segunda fase. Repare que estes alunos não podem ter sido desqualificados.\n",
    "df_qualif = df[(df['total_aluno'] > 45) & (~df.index.isin(df_desq.index))]\n",
    "df_qualif"
   ]
  },
  {
   "cell_type": "markdown",
   "metadata": {
    "id": "EGBUWpAHC8-5"
   },
   "source": [
    "## 3) Vacinações no Acre\n",
    "Vamos trabalhar agora com a base de vacinações no Acre. Para facilitar a sua vida, copiamos o link do arquivo na célula abaixo.\n",
    "\n",
    "1. Quantas vacinas estão registradas nessa base?  \n",
    "2. Quantos pacientes foram vacinados? (considere um paciente para cada valor único de ```paciente_id```)  \n",
    "3. Quantos pacientes únicos tomaram a primeira dose? OBS: Há um caractere especial neste campo. Receba os valores do campo com o método ```.unique()```.   \n",
    "4. Quantos pacientes com menos de 18 anos foram vacinados?  \n",
    "5. Quantos estabelecimentos aplicaram vacina no Acre?\n",
    "\n",
    "\n",
    "**OBS:** O portal do DATASUS pode apresentar instabilidades, retornando um erro na segunda célula abaixo. Por este motivo está disponível uma base estática, que se for baixada para o seu *working directory* pode ser lida com este comando: ```df = pd.read_csv('registros de vacinacao covid ACRE.csv', sep=';')```.\n",
    "\n",
    "**OBS2:** Para saber qual é o seu working directory, rode no jupyter: ```!pwd```."
   ]
  },
  {
   "cell_type": "code",
   "execution_count": 61,
   "metadata": {
    "id": "ET4r139hC8-5"
   },
   "outputs": [
    {
     "data": {
      "text/html": [
       "<div>\n",
       "<style scoped>\n",
       "    .dataframe tbody tr th:only-of-type {\n",
       "        vertical-align: middle;\n",
       "    }\n",
       "\n",
       "    .dataframe tbody tr th {\n",
       "        vertical-align: top;\n",
       "    }\n",
       "\n",
       "    .dataframe thead th {\n",
       "        text-align: right;\n",
       "    }\n",
       "</style>\n",
       "<table border=\"1\" class=\"dataframe\">\n",
       "  <thead>\n",
       "    <tr style=\"text-align: right;\">\n",
       "      <th></th>\n",
       "      <th>document_id</th>\n",
       "      <th>paciente_id</th>\n",
       "      <th>paciente_idade</th>\n",
       "      <th>paciente_dataNascimento</th>\n",
       "      <th>paciente_enumSexoBiologico</th>\n",
       "      <th>paciente_racaCor_codigo</th>\n",
       "      <th>paciente_racaCor_valor</th>\n",
       "      <th>paciente_endereco_coIbgeMunicipio</th>\n",
       "      <th>paciente_endereco_coPais</th>\n",
       "      <th>paciente_endereco_nmMunicipio</th>\n",
       "      <th>...</th>\n",
       "      <th>vacina_categoria_codigo</th>\n",
       "      <th>vacina_categoria_nome</th>\n",
       "      <th>vacina_lote</th>\n",
       "      <th>vacina_fabricante_nome</th>\n",
       "      <th>vacina_fabricante_referencia</th>\n",
       "      <th>vacina_dataAplicacao</th>\n",
       "      <th>vacina_descricao_dose</th>\n",
       "      <th>vacina_codigo</th>\n",
       "      <th>vacina_nome</th>\n",
       "      <th>sistema_origem</th>\n",
       "    </tr>\n",
       "  </thead>\n",
       "  <tbody>\n",
       "    <tr>\n",
       "      <th>0</th>\n",
       "      <td>a7b2e803-75ae-4c59-baa7-421d87f9a707-i0b0</td>\n",
       "      <td>3e35925a3512d7901cd2974eb662e25b6130ee42e72317...</td>\n",
       "      <td>30</td>\n",
       "      <td>1991-08-30</td>\n",
       "      <td>F</td>\n",
       "      <td>4</td>\n",
       "      <td>AMARELA</td>\n",
       "      <td>120040.0</td>\n",
       "      <td>10.0</td>\n",
       "      <td>RIO BRANCO</td>\n",
       "      <td>...</td>\n",
       "      <td>2.0</td>\n",
       "      <td>Faixa Etária</td>\n",
       "      <td>205F21A</td>\n",
       "      <td>JANSSEN</td>\n",
       "      <td>Organization/30587</td>\n",
       "      <td>2022-05-26</td>\n",
       "      <td>Reforço</td>\n",
       "      <td>88</td>\n",
       "      <td>COVID-19 JANSSEN - Ad26.COV2.S</td>\n",
       "      <td>Novo PNI</td>\n",
       "    </tr>\n",
       "    <tr>\n",
       "      <th>1</th>\n",
       "      <td>5ec41855-c5b8-44de-88d0-a474814e9df0-i0b0</td>\n",
       "      <td>ac91ba1d57f1ec0a8c88e393ed7e162914cecaa47d8624...</td>\n",
       "      <td>38</td>\n",
       "      <td>1982-09-20</td>\n",
       "      <td>F</td>\n",
       "      <td>2</td>\n",
       "      <td>PRETA</td>\n",
       "      <td>120020.0</td>\n",
       "      <td>10.0</td>\n",
       "      <td>CRUZEIRO DO SUL</td>\n",
       "      <td>...</td>\n",
       "      <td>2.0</td>\n",
       "      <td>Faixa Etária</td>\n",
       "      <td>214VCD053W</td>\n",
       "      <td>ASTRAZENECA/FIOCRUZ</td>\n",
       "      <td>Organization/33781055000135</td>\n",
       "      <td>2021-07-02</td>\n",
       "      <td>1ª Dose</td>\n",
       "      <td>85</td>\n",
       "      <td>COVID-19 ASTRAZENECA/FIOCRUZ - COVISHIELD</td>\n",
       "      <td>Novo PNI</td>\n",
       "    </tr>\n",
       "    <tr>\n",
       "      <th>...</th>\n",
       "      <td>...</td>\n",
       "      <td>...</td>\n",
       "      <td>...</td>\n",
       "      <td>...</td>\n",
       "      <td>...</td>\n",
       "      <td>...</td>\n",
       "      <td>...</td>\n",
       "      <td>...</td>\n",
       "      <td>...</td>\n",
       "      <td>...</td>\n",
       "      <td>...</td>\n",
       "      <td>...</td>\n",
       "      <td>...</td>\n",
       "      <td>...</td>\n",
       "      <td>...</td>\n",
       "      <td>...</td>\n",
       "      <td>...</td>\n",
       "      <td>...</td>\n",
       "      <td>...</td>\n",
       "      <td>...</td>\n",
       "      <td>...</td>\n",
       "    </tr>\n",
       "    <tr>\n",
       "      <th>375522</th>\n",
       "      <td>d15e007a-f7d9-43f2-bb5c-94a0986f4cf7-i0b0</td>\n",
       "      <td>00a2cf8cb156ba7c3b61116431c4f1a0a5b175233a872a...</td>\n",
       "      <td>11</td>\n",
       "      <td>2010-08-09</td>\n",
       "      <td>F</td>\n",
       "      <td>4</td>\n",
       "      <td>AMARELA</td>\n",
       "      <td>120020.0</td>\n",
       "      <td>10.0</td>\n",
       "      <td>CRUZEIRO DO SUL</td>\n",
       "      <td>...</td>\n",
       "      <td>NaN</td>\n",
       "      <td>NaN</td>\n",
       "      <td>FN4073</td>\n",
       "      <td>PFIZER - PEDI?TRICA</td>\n",
       "      <td>28290</td>\n",
       "      <td>2022-07-29</td>\n",
       "      <td>1ª Dose</td>\n",
       "      <td>99</td>\n",
       "      <td>COVID-19 PEDIÁTRICA - PFIZER COMIRNATY</td>\n",
       "      <td>Novo PNI</td>\n",
       "    </tr>\n",
       "    <tr>\n",
       "      <th>375523</th>\n",
       "      <td>d173f9db-b80a-48c7-846f-079692d15503-i0b0</td>\n",
       "      <td>a0b845679aef5f58f18d51940e615aab6c6e97806af574...</td>\n",
       "      <td>24</td>\n",
       "      <td>1997-06-04</td>\n",
       "      <td>M</td>\n",
       "      <td>3</td>\n",
       "      <td>PARDA</td>\n",
       "      <td>120013.0</td>\n",
       "      <td>10.0</td>\n",
       "      <td>BUJARI</td>\n",
       "      <td>...</td>\n",
       "      <td>2.0</td>\n",
       "      <td>Faixa Etária</td>\n",
       "      <td>FF8840</td>\n",
       "      <td>PFIZER</td>\n",
       "      <td>Organization/00394544000851</td>\n",
       "      <td>2021-09-27</td>\n",
       "      <td>2ª Dose</td>\n",
       "      <td>87</td>\n",
       "      <td>COVID-19 PFIZER - COMIRNATY</td>\n",
       "      <td>Novo PNI</td>\n",
       "    </tr>\n",
       "  </tbody>\n",
       "</table>\n",
       "<p>375524 rows × 32 columns</p>\n",
       "</div>"
      ],
      "text/plain": [
       "                                      document_id  \\\n",
       "0       a7b2e803-75ae-4c59-baa7-421d87f9a707-i0b0   \n",
       "1       5ec41855-c5b8-44de-88d0-a474814e9df0-i0b0   \n",
       "...                                           ...   \n",
       "375522  d15e007a-f7d9-43f2-bb5c-94a0986f4cf7-i0b0   \n",
       "375523  d173f9db-b80a-48c7-846f-079692d15503-i0b0   \n",
       "\n",
       "                                              paciente_id  paciente_idade  \\\n",
       "0       3e35925a3512d7901cd2974eb662e25b6130ee42e72317...              30   \n",
       "1       ac91ba1d57f1ec0a8c88e393ed7e162914cecaa47d8624...              38   \n",
       "...                                                   ...             ...   \n",
       "375522  00a2cf8cb156ba7c3b61116431c4f1a0a5b175233a872a...              11   \n",
       "375523  a0b845679aef5f58f18d51940e615aab6c6e97806af574...              24   \n",
       "\n",
       "       paciente_dataNascimento paciente_enumSexoBiologico  \\\n",
       "0                   1991-08-30                          F   \n",
       "1                   1982-09-20                          F   \n",
       "...                        ...                        ...   \n",
       "375522              2010-08-09                          F   \n",
       "375523              1997-06-04                          M   \n",
       "\n",
       "        paciente_racaCor_codigo paciente_racaCor_valor  \\\n",
       "0                             4                AMARELA   \n",
       "1                             2                  PRETA   \n",
       "...                         ...                    ...   \n",
       "375522                        4                AMARELA   \n",
       "375523                        3                  PARDA   \n",
       "\n",
       "        paciente_endereco_coIbgeMunicipio  paciente_endereco_coPais  \\\n",
       "0                                120040.0                      10.0   \n",
       "1                                120020.0                      10.0   \n",
       "...                                   ...                       ...   \n",
       "375522                           120020.0                      10.0   \n",
       "375523                           120013.0                      10.0   \n",
       "\n",
       "       paciente_endereco_nmMunicipio  ... vacina_categoria_codigo  \\\n",
       "0                         RIO BRANCO  ...                     2.0   \n",
       "1                    CRUZEIRO DO SUL  ...                     2.0   \n",
       "...                              ...  ...                     ...   \n",
       "375522               CRUZEIRO DO SUL  ...                     NaN   \n",
       "375523                        BUJARI  ...                     2.0   \n",
       "\n",
       "       vacina_categoria_nome  vacina_lote vacina_fabricante_nome  \\\n",
       "0               Faixa Etária      205F21A                JANSSEN   \n",
       "1               Faixa Etária   214VCD053W    ASTRAZENECA/FIOCRUZ   \n",
       "...                      ...          ...                    ...   \n",
       "375522                   NaN       FN4073    PFIZER - PEDI?TRICA   \n",
       "375523          Faixa Etária       FF8840                 PFIZER   \n",
       "\n",
       "        vacina_fabricante_referencia vacina_dataAplicacao  \\\n",
       "0                 Organization/30587           2022-05-26   \n",
       "1        Organization/33781055000135           2021-07-02   \n",
       "...                              ...                  ...   \n",
       "375522                         28290           2022-07-29   \n",
       "375523   Organization/00394544000851           2021-09-27   \n",
       "\n",
       "       vacina_descricao_dose  vacina_codigo  \\\n",
       "0                    Reforço             88   \n",
       "1                    1ª Dose             85   \n",
       "...                      ...            ...   \n",
       "375522               1ª Dose             99   \n",
       "375523               2ª Dose             87   \n",
       "\n",
       "                                      vacina_nome sistema_origem  \n",
       "0                  COVID-19 JANSSEN - Ad26.COV2.S       Novo PNI  \n",
       "1       COVID-19 ASTRAZENECA/FIOCRUZ - COVISHIELD       Novo PNI  \n",
       "...                                           ...            ...  \n",
       "375522     COVID-19 PEDIÁTRICA - PFIZER COMIRNATY       Novo PNI  \n",
       "375523                COVID-19 PFIZER - COMIRNATY       Novo PNI  \n",
       "\n",
       "[375524 rows x 32 columns]"
      ]
     },
     "execution_count": 61,
     "metadata": {},
     "output_type": "execute_result"
    }
   ],
   "source": [
    "arquivo = 'https://s3.sa-east-1.amazonaws.com/ckan.saude.gov.br/SIPNI/COVID/uf/uf%3DAC/part-00000-97829158-cc41-4c75-aec4-752344e6e938.c000.csv'\n",
    "pd.set_option('display.max_rows', 4)\n",
    "\n",
    "df_covid = pd.read_csv(arquivo, sep=';')\n",
    "df_covid"
   ]
  },
  {
   "cell_type": "code",
   "execution_count": 70,
   "metadata": {
    "id": "SC9YMWLSC8-6"
   },
   "outputs": [
    {
     "data": {
      "text/plain": [
       "375524"
      ]
     },
     "execution_count": 70,
     "metadata": {},
     "output_type": "execute_result"
    }
   ],
   "source": [
    "# 1) Sua solução aqui\n",
    "num_entries = len(df_covid)\n",
    "num_entries"
   ]
  },
  {
   "cell_type": "code",
   "execution_count": 71,
   "metadata": {
    "id": "PMztY1RlC8-7"
   },
   "outputs": [
    {
     "data": {
      "text/plain": [
       "308842"
      ]
     },
     "execution_count": 71,
     "metadata": {},
     "output_type": "execute_result"
    }
   ],
   "source": [
    "# 2)\n",
    "vacinados_arr = df_covid['paciente_id'].nunique()\n",
    "vacinados_arr"
   ]
  },
  {
   "cell_type": "code",
   "execution_count": 72,
   "metadata": {
    "id": "V_wr--3JC8-7"
   },
   "outputs": [
    {
     "name": "stdout",
     "output_type": "stream",
     "text": [
      "141243\n"
     ]
    }
   ],
   "source": [
    "# 3)\n",
    "df_prim_dose = df_covid[df_covid['vacina_descricao_dose'] == '1ª Dose']\n",
    "print(df_prim_dose['paciente_id'].nunique())"
   ]
  },
  {
   "cell_type": "code",
   "execution_count": 73,
   "metadata": {
    "id": "SPHgIxtcC8-7"
   },
   "outputs": [
    {
     "data": {
      "text/plain": [
       "70960"
      ]
     },
     "execution_count": 73,
     "metadata": {},
     "output_type": "execute_result"
    }
   ],
   "source": [
    "# 4) solução alternativa\n",
    "df_nao_adulto = df_covid[df_covid['paciente_idade'] < 18]\n",
    "len(df_nao_adulto)"
   ]
  },
  {
   "cell_type": "code",
   "execution_count": 68,
   "metadata": {
    "id": "S6ab9ExEC8-7"
   },
   "outputs": [
    {
     "name": "stdout",
     "output_type": "stream",
     "text": [
      "Index(['document_id', 'paciente_id', 'paciente_idade',\n",
      "       'paciente_dataNascimento', 'paciente_enumSexoBiologico',\n",
      "       'paciente_racaCor_codigo', 'paciente_racaCor_valor',\n",
      "       'paciente_endereco_coIbgeMunicipio', 'paciente_endereco_coPais',\n",
      "       'paciente_endereco_nmMunicipio', 'paciente_endereco_nmPais',\n",
      "       'paciente_endereco_uf', 'paciente_endereco_cep',\n",
      "       'paciente_nacionalidade_enumNacionalidade', 'estabelecimento_valor',\n",
      "       'estabelecimento_razaoSocial', 'estalecimento_noFantasia',\n",
      "       'estabelecimento_municipio_codigo', 'estabelecimento_municipio_nome',\n",
      "       'estabelecimento_uf', 'vacina_grupoAtendimento_codigo',\n",
      "       'vacina_grupoAtendimento_nome', 'vacina_categoria_codigo',\n",
      "       'vacina_categoria_nome', 'vacina_lote', 'vacina_fabricante_nome',\n",
      "       'vacina_fabricante_referencia', 'vacina_dataAplicacao',\n",
      "       'vacina_descricao_dose', 'vacina_codigo', 'vacina_nome',\n",
      "       'sistema_origem'],\n",
      "      dtype='object')\n"
     ]
    }
   ],
   "source": [
    "print(df_covid.columns)"
   ]
  },
  {
   "cell_type": "code",
   "execution_count": 79,
   "metadata": {
    "tags": []
   },
   "outputs": [
    {
     "name": "stdout",
     "output_type": "stream",
     "text": [
      "22\n"
     ]
    }
   ],
   "source": [
    "# 5)\n",
    "print(df_covid['estabelecimento_municipio_codigo'].nunique())"
   ]
  },
  {
   "cell_type": "markdown",
   "metadata": {
    "id": "LH1LSYvGC8-8"
   },
   "source": [
    "## 4) Vacinação II\n",
    "Gere um *DataFrame* que contenha somente os estabelecimentos que aplicaram vcinas a menores de 18 anos. Nesse *DataFrame* devem conter somente os dados dos estabelecimentos, mais uma coluna sendo a quantidade de vacinas que o estabelecimento aplicou a menores de 18 anos.  \n",
    "  \n",
    "1. crie uma cópia do *DataFrame* original, contendo somente os registros de vacinas realizadas a menores de 18 anos.  \n",
    "2. crie uma lista das colunas desse *DataFrame* com o atributo de *DataFrame* **.columns()**  \n",
    "3. Nesse *DataFrame* faça uma contagem do campo ```vacina_categoria_nome```.\n",
    "3. a partir da lista de colunas, escolha somente aquelas que são referentes ao estabelecimento, faça uma lista com esses valores.  \n",
    "4. usando o método *.loc*, selecione somente essas variáveis  \n",
    "5. Aplique o método **.drop_duplicates** e crie uma lista com uma linha para cada estabelecimento, com os dados do estabelecimento  "
   ]
  },
  {
   "cell_type": "code",
   "execution_count": 97,
   "metadata": {
    "id": "3ojs12vUC8-8"
   },
   "outputs": [
    {
     "data": {
      "text/html": [
       "<div>\n",
       "<style scoped>\n",
       "    .dataframe tbody tr th:only-of-type {\n",
       "        vertical-align: middle;\n",
       "    }\n",
       "\n",
       "    .dataframe tbody tr th {\n",
       "        vertical-align: top;\n",
       "    }\n",
       "\n",
       "    .dataframe thead th {\n",
       "        text-align: right;\n",
       "    }\n",
       "</style>\n",
       "<table border=\"1\" class=\"dataframe\">\n",
       "  <thead>\n",
       "    <tr style=\"text-align: right;\">\n",
       "      <th></th>\n",
       "      <th>document_id</th>\n",
       "      <th>paciente_id</th>\n",
       "      <th>paciente_idade</th>\n",
       "      <th>paciente_dataNascimento</th>\n",
       "      <th>paciente_enumSexoBiologico</th>\n",
       "      <th>paciente_racaCor_codigo</th>\n",
       "      <th>paciente_racaCor_valor</th>\n",
       "      <th>paciente_endereco_coIbgeMunicipio</th>\n",
       "      <th>paciente_endereco_coPais</th>\n",
       "      <th>paciente_endereco_nmMunicipio</th>\n",
       "      <th>...</th>\n",
       "      <th>vacina_categoria_codigo</th>\n",
       "      <th>vacina_categoria_nome</th>\n",
       "      <th>vacina_lote</th>\n",
       "      <th>vacina_fabricante_nome</th>\n",
       "      <th>vacina_fabricante_referencia</th>\n",
       "      <th>vacina_dataAplicacao</th>\n",
       "      <th>vacina_descricao_dose</th>\n",
       "      <th>vacina_codigo</th>\n",
       "      <th>vacina_nome</th>\n",
       "      <th>sistema_origem</th>\n",
       "    </tr>\n",
       "  </thead>\n",
       "  <tbody>\n",
       "    <tr>\n",
       "      <th>6</th>\n",
       "      <td>74629aec-ea92-40cd-868e-23620e6cd055-i0b0</td>\n",
       "      <td>23545e868e3c4555ca5b0452613d44275102e44d432e27...</td>\n",
       "      <td>15</td>\n",
       "      <td>2006-01-15</td>\n",
       "      <td>M</td>\n",
       "      <td>99</td>\n",
       "      <td>SEM INFORMACAO</td>\n",
       "      <td>120040.0</td>\n",
       "      <td>10.0</td>\n",
       "      <td>RIO BRANCO</td>\n",
       "      <td>...</td>\n",
       "      <td>2.0</td>\n",
       "      <td>Faixa Etária</td>\n",
       "      <td>FF8848</td>\n",
       "      <td>PFIZER</td>\n",
       "      <td>Organization/00394544000851</td>\n",
       "      <td>2021-10-09</td>\n",
       "      <td>2ª Dose</td>\n",
       "      <td>87</td>\n",
       "      <td>COVID-19 PFIZER - COMIRNATY</td>\n",
       "      <td>Novo PNI</td>\n",
       "    </tr>\n",
       "    <tr>\n",
       "      <th>9</th>\n",
       "      <td>5f2afecd-7550-4f5c-9afb-86043a6f06aa-i0b0</td>\n",
       "      <td>3c801e3d6595fb034082a1477d767e3e8a6a5a8830a964...</td>\n",
       "      <td>12</td>\n",
       "      <td>2009-08-27</td>\n",
       "      <td>M</td>\n",
       "      <td>3</td>\n",
       "      <td>PARDA</td>\n",
       "      <td>120005.0</td>\n",
       "      <td>10.0</td>\n",
       "      <td>ASSIS BRASIL</td>\n",
       "      <td>...</td>\n",
       "      <td>2.0</td>\n",
       "      <td>Faixa Etária</td>\n",
       "      <td>31065BD</td>\n",
       "      <td>PFIZER</td>\n",
       "      <td>Organization/28290</td>\n",
       "      <td>2022-01-10</td>\n",
       "      <td>1ª Dose</td>\n",
       "      <td>87</td>\n",
       "      <td>COVID-19 PFIZER - COMIRNATY</td>\n",
       "      <td>Novo PNI</td>\n",
       "    </tr>\n",
       "    <tr>\n",
       "      <th>...</th>\n",
       "      <td>...</td>\n",
       "      <td>...</td>\n",
       "      <td>...</td>\n",
       "      <td>...</td>\n",
       "      <td>...</td>\n",
       "      <td>...</td>\n",
       "      <td>...</td>\n",
       "      <td>...</td>\n",
       "      <td>...</td>\n",
       "      <td>...</td>\n",
       "      <td>...</td>\n",
       "      <td>...</td>\n",
       "      <td>...</td>\n",
       "      <td>...</td>\n",
       "      <td>...</td>\n",
       "      <td>...</td>\n",
       "      <td>...</td>\n",
       "      <td>...</td>\n",
       "      <td>...</td>\n",
       "      <td>...</td>\n",
       "      <td>...</td>\n",
       "    </tr>\n",
       "    <tr>\n",
       "      <th>375521</th>\n",
       "      <td>d1512879-1dcd-4a80-9dca-21597ac68b9b-i0b0</td>\n",
       "      <td>99c9f90fc09e314b4f3dbbf6ecfccc666d5c00c8c2c01c...</td>\n",
       "      <td>17</td>\n",
       "      <td>2004-05-07</td>\n",
       "      <td>M</td>\n",
       "      <td>4</td>\n",
       "      <td>AMARELA</td>\n",
       "      <td>120050.0</td>\n",
       "      <td>10.0</td>\n",
       "      <td>SENA MADUREIRA</td>\n",
       "      <td>...</td>\n",
       "      <td>2.0</td>\n",
       "      <td>Faixa Etária</td>\n",
       "      <td>FA9096</td>\n",
       "      <td>PFIZER</td>\n",
       "      <td>Organization/00394544000851</td>\n",
       "      <td>2021-08-11</td>\n",
       "      <td>1ª Dose</td>\n",
       "      <td>87</td>\n",
       "      <td>COVID-19 PFIZER - COMIRNATY</td>\n",
       "      <td>Novo PNI</td>\n",
       "    </tr>\n",
       "    <tr>\n",
       "      <th>375522</th>\n",
       "      <td>d15e007a-f7d9-43f2-bb5c-94a0986f4cf7-i0b0</td>\n",
       "      <td>00a2cf8cb156ba7c3b61116431c4f1a0a5b175233a872a...</td>\n",
       "      <td>11</td>\n",
       "      <td>2010-08-09</td>\n",
       "      <td>F</td>\n",
       "      <td>4</td>\n",
       "      <td>AMARELA</td>\n",
       "      <td>120020.0</td>\n",
       "      <td>10.0</td>\n",
       "      <td>CRUZEIRO DO SUL</td>\n",
       "      <td>...</td>\n",
       "      <td>NaN</td>\n",
       "      <td>NaN</td>\n",
       "      <td>FN4073</td>\n",
       "      <td>PFIZER - PEDI?TRICA</td>\n",
       "      <td>28290</td>\n",
       "      <td>2022-07-29</td>\n",
       "      <td>1ª Dose</td>\n",
       "      <td>99</td>\n",
       "      <td>COVID-19 PEDIÁTRICA - PFIZER COMIRNATY</td>\n",
       "      <td>Novo PNI</td>\n",
       "    </tr>\n",
       "  </tbody>\n",
       "</table>\n",
       "<p>70960 rows × 32 columns</p>\n",
       "</div>"
      ],
      "text/plain": [
       "                                      document_id  \\\n",
       "6       74629aec-ea92-40cd-868e-23620e6cd055-i0b0   \n",
       "9       5f2afecd-7550-4f5c-9afb-86043a6f06aa-i0b0   \n",
       "...                                           ...   \n",
       "375521  d1512879-1dcd-4a80-9dca-21597ac68b9b-i0b0   \n",
       "375522  d15e007a-f7d9-43f2-bb5c-94a0986f4cf7-i0b0   \n",
       "\n",
       "                                              paciente_id  paciente_idade  \\\n",
       "6       23545e868e3c4555ca5b0452613d44275102e44d432e27...              15   \n",
       "9       3c801e3d6595fb034082a1477d767e3e8a6a5a8830a964...              12   \n",
       "...                                                   ...             ...   \n",
       "375521  99c9f90fc09e314b4f3dbbf6ecfccc666d5c00c8c2c01c...              17   \n",
       "375522  00a2cf8cb156ba7c3b61116431c4f1a0a5b175233a872a...              11   \n",
       "\n",
       "       paciente_dataNascimento paciente_enumSexoBiologico  \\\n",
       "6                   2006-01-15                          M   \n",
       "9                   2009-08-27                          M   \n",
       "...                        ...                        ...   \n",
       "375521              2004-05-07                          M   \n",
       "375522              2010-08-09                          F   \n",
       "\n",
       "        paciente_racaCor_codigo paciente_racaCor_valor  \\\n",
       "6                            99         SEM INFORMACAO   \n",
       "9                             3                  PARDA   \n",
       "...                         ...                    ...   \n",
       "375521                        4                AMARELA   \n",
       "375522                        4                AMARELA   \n",
       "\n",
       "        paciente_endereco_coIbgeMunicipio  paciente_endereco_coPais  \\\n",
       "6                                120040.0                      10.0   \n",
       "9                                120005.0                      10.0   \n",
       "...                                   ...                       ...   \n",
       "375521                           120050.0                      10.0   \n",
       "375522                           120020.0                      10.0   \n",
       "\n",
       "       paciente_endereco_nmMunicipio  ... vacina_categoria_codigo  \\\n",
       "6                         RIO BRANCO  ...                     2.0   \n",
       "9                       ASSIS BRASIL  ...                     2.0   \n",
       "...                              ...  ...                     ...   \n",
       "375521                SENA MADUREIRA  ...                     2.0   \n",
       "375522               CRUZEIRO DO SUL  ...                     NaN   \n",
       "\n",
       "       vacina_categoria_nome  vacina_lote vacina_fabricante_nome  \\\n",
       "6               Faixa Etária       FF8848                 PFIZER   \n",
       "9               Faixa Etária      31065BD                 PFIZER   \n",
       "...                      ...          ...                    ...   \n",
       "375521          Faixa Etária       FA9096                 PFIZER   \n",
       "375522                   NaN       FN4073    PFIZER - PEDI?TRICA   \n",
       "\n",
       "        vacina_fabricante_referencia vacina_dataAplicacao  \\\n",
       "6        Organization/00394544000851           2021-10-09   \n",
       "9                 Organization/28290           2022-01-10   \n",
       "...                              ...                  ...   \n",
       "375521   Organization/00394544000851           2021-08-11   \n",
       "375522                         28290           2022-07-29   \n",
       "\n",
       "       vacina_descricao_dose  vacina_codigo  \\\n",
       "6                    2ª Dose             87   \n",
       "9                    1ª Dose             87   \n",
       "...                      ...            ...   \n",
       "375521               1ª Dose             87   \n",
       "375522               1ª Dose             99   \n",
       "\n",
       "                                   vacina_nome sistema_origem  \n",
       "6                  COVID-19 PFIZER - COMIRNATY       Novo PNI  \n",
       "9                  COVID-19 PFIZER - COMIRNATY       Novo PNI  \n",
       "...                                        ...            ...  \n",
       "375521             COVID-19 PFIZER - COMIRNATY       Novo PNI  \n",
       "375522  COVID-19 PEDIÁTRICA - PFIZER COMIRNATY       Novo PNI  \n",
       "\n",
       "[70960 rows x 32 columns]"
      ]
     },
     "execution_count": 97,
     "metadata": {},
     "output_type": "execute_result"
    }
   ],
   "source": [
    "# 1)\n",
    "df_nao_adulto = df_covid[df_covid['paciente_idade'] < 18]\n",
    "df_nao_adulto"
   ]
  },
  {
   "cell_type": "code",
   "execution_count": 98,
   "metadata": {
    "id": "sLyevPRBC8-8"
   },
   "outputs": [
    {
     "data": {
      "text/plain": [
       "Index(['document_id', 'paciente_id', 'paciente_idade',\n",
       "       'paciente_dataNascimento', 'paciente_enumSexoBiologico',\n",
       "       'paciente_racaCor_codigo', 'paciente_racaCor_valor',\n",
       "       'paciente_endereco_coIbgeMunicipio', 'paciente_endereco_coPais',\n",
       "       'paciente_endereco_nmMunicipio', 'paciente_endereco_nmPais',\n",
       "       'paciente_endereco_uf', 'paciente_endereco_cep',\n",
       "       'paciente_nacionalidade_enumNacionalidade', 'estabelecimento_valor',\n",
       "       'estabelecimento_razaoSocial', 'estalecimento_noFantasia',\n",
       "       'estabelecimento_municipio_codigo', 'estabelecimento_municipio_nome',\n",
       "       'estabelecimento_uf', 'vacina_grupoAtendimento_codigo',\n",
       "       'vacina_grupoAtendimento_nome', 'vacina_categoria_codigo',\n",
       "       'vacina_categoria_nome', 'vacina_lote', 'vacina_fabricante_nome',\n",
       "       'vacina_fabricante_referencia', 'vacina_dataAplicacao',\n",
       "       'vacina_descricao_dose', 'vacina_codigo', 'vacina_nome',\n",
       "       'sistema_origem'],\n",
       "      dtype='object')"
      ]
     },
     "execution_count": 98,
     "metadata": {},
     "output_type": "execute_result"
    }
   ],
   "source": [
    "# 2)\n",
    "df_nao_adulto.columns"
   ]
  },
  {
   "cell_type": "code",
   "execution_count": 99,
   "metadata": {
    "id": "lZAW-Dp8C8-8"
   },
   "outputs": [
    {
     "data": {
      "text/plain": [
       "13"
      ]
     },
     "execution_count": 99,
     "metadata": {},
     "output_type": "execute_result"
    }
   ],
   "source": [
    "# 3)\n",
    "df_nao_adulto['vacina_categoria_nome'].nunique()"
   ]
  },
  {
   "cell_type": "code",
   "execution_count": 122,
   "metadata": {
    "id": "xxYsxrxAC8-8"
   },
   "outputs": [
    {
     "name": "stderr",
     "output_type": "stream",
     "text": [
      "C:\\Users\\Lucas\\AppData\\Local\\Temp\\ipykernel_15228\\1464200143.py:11: SettingWithCopyWarning: \n",
      "A value is trying to be set on a copy of a slice from a DataFrame.\n",
      "Try using .loc[row_indexer,col_indexer] = value instead\n",
      "\n",
      "See the caveats in the documentation: https://pandas.pydata.org/pandas-docs/stable/user_guide/indexing.html#returning-a-view-versus-a-copy\n",
      "  df_nao_adulto['total_vacinas_menores_de_18'] = 0\n"
     ]
    },
    {
     "data": {
      "text/plain": [
       "[['DISTRITO SANITARIO ESPECIAL DE SAUDE INDIGENA ALTO RIO PURUS', 0],\n",
       " ['DISTRITO SANITARIO ESPECIAL INDIGENA ALTO JURUA', 0],\n",
       " ['DISTRITO SANITARIO ESPECIAL INDIGENA ALTO RIO JURUA', 0],\n",
       " ['DISTRITO SANITARIO ESPECIAL INDIGENA ALTO RIO PURUS', 0],\n",
       " ['K M OLIVEIRA EIRELI', 0],\n",
       " ['MINISTERIO DA SAUDE', 0],\n",
       " ['MUNICIPIO DE BRASILEIA', 0],\n",
       " ['MUNICIPIO DE MANCIO LIMA', 0],\n",
       " ['MUNICIPIO DE MARECHAL THAUMATURGO', 0],\n",
       " ['MUNICIPIO DE PORTO WALTER', 0],\n",
       " ['MUNICIPIO DE RIO BRANCO', 0],\n",
       " ['POLO BASE DE TARAUACA', 0],\n",
       " ['PREFEITURA DE BRASILEIA', 0],\n",
       " ['PREFEITURA DE MANCIO LIMA', 0],\n",
       " ['PREFEITURA DE SENA MADUREIRA', 0],\n",
       " ['PREFEITURA MUN DE MAL THAUMATURGO', 0],\n",
       " ['PREFEITURA MUNICIIPAL DE SENA MADUREIRA', 0],\n",
       " ['PREFEITURA MUNICIPAL DE ACRELANDIA', 0],\n",
       " ['PREFEITURA MUNICIPAL DE ASSIS BRASIL', 0],\n",
       " ['PREFEITURA MUNICIPAL DE BRASILEIA', 0],\n",
       " ['PREFEITURA MUNICIPAL DE BUJARI', 0],\n",
       " ['PREFEITURA MUNICIPAL DE CAPIXABA', 0],\n",
       " ['PREFEITURA MUNICIPAL DE CRUZEIRO DO SUL', 0],\n",
       " ['PREFEITURA MUNICIPAL DE EPITACIOLANDIA', 0],\n",
       " ['PREFEITURA MUNICIPAL DE FEIJO', 0],\n",
       " ['PREFEITURA MUNICIPAL DE JORDAO', 0],\n",
       " ['PREFEITURA MUNICIPAL DE MANCIO LIMA', 0],\n",
       " ['PREFEITURA MUNICIPAL DE MANUEL URBANO', 0],\n",
       " ['PREFEITURA MUNICIPAL DE PORTO ACRE', 0],\n",
       " ['PREFEITURA MUNICIPAL DE PORTO WALTER', 0],\n",
       " ['PREFEITURA MUNICIPAL DE RIO BRANCO', 0],\n",
       " ['PREFEITURA MUNICIPAL DE RODRIGUES ALVES', 0],\n",
       " ['PREFEITURA MUNICIPAL DE SANTA ROSA DO PURUS', 0],\n",
       " ['PREFEITURA MUNICIPAL DE SAUDE', 0],\n",
       " ['PREFEITURA MUNICIPAL DE SENA MADUREIRA', 0],\n",
       " ['PREFEITURA MUNICIPAL DE SENADOR GUIOMARD', 0],\n",
       " ['PREFEITURA MUNICIPAL DE TARAUACA', 0],\n",
       " ['PREFEITURA MUNICIPAL DE XAPURI', 0],\n",
       " ['PREFEITURA MUNICIPAL MANCIO LIMA', 0],\n",
       " ['REDE DE FRIOS', 0],\n",
       " ['SECRETARIA DE ESTADO DE SAUDE', 0],\n",
       " ['SECRETARIA DE ESTADO DE SAUDE DO ACRE', 0],\n",
       " ['SECRETARIA MUNCIPAL DE SAUDE', 0],\n",
       " ['SECRETARIA MUNICIPAL DE SAUDE', 0],\n",
       " ['SECRETARIA MUNICIPAL DE SAUDE DE BRASILEIA', 0],\n",
       " ['USF AEROPORTO VELHO', 0],\n",
       " ['USF BARRO VERMELHO', 0]]"
      ]
     },
     "execution_count": 122,
     "metadata": {},
     "output_type": "execute_result"
    }
   ],
   "source": [
    "# 4)\n",
    "columns_to_copy = ['estabelecimento_razaoSocial',\n",
    "                   'estabelecimento_valor',\n",
    "                   'estalecimento_noFantasia',\n",
    "                   'estabelecimento_municipio_codigo',\n",
    "                   'estabelecimento_municipio_nome',\n",
    "                   'estabelecimento_uf']\n",
    "\n",
    "lista = df_nao_adulto.loc[:, columns_to_copy].values.tolist()\n",
    "\n",
    "df_nao_adulto['total_vacinas_menores_de_18'] = 0\n",
    "\n",
    "# Extracting index and values separately\n",
    "index_values = [row[0] for row in lista]\n",
    "data_values = [row[1:] for row in lista]\n",
    "\n",
    "# Creating the DataFrame\n",
    "df_lista = pd.DataFrame(data_values, index=index_values, columns=columns_to_copy[1:])\n",
    "#df_lista['total_vacinas_menores_de_18'] = df_covid[]\n",
    "\n",
    "# Group by city and sum the number of vaccinations\n",
    "vacinas_por_estabelecimento = df_nao_adulto.groupby('estabelecimento_razaoSocial')['total_vacinas_menores_de_18'].sum().reset_index()\n",
    "\n",
    "# Convert the grouped DataFrame to a list of tuples\n",
    "vacinas_por_estabelecimento_lista = vacinas_por_estabelecimento.values.tolist()\n",
    "vacinas_por_estabelecimento_lista\n",
    "#df_lista"
   ]
  },
  {
   "cell_type": "code",
   "execution_count": null,
   "metadata": {},
   "outputs": [],
   "source": []
  },
  {
   "cell_type": "code",
   "execution_count": null,
   "metadata": {},
   "outputs": [],
   "source": []
  }
 ],
 "metadata": {
  "colab": {
   "provenance": []
  },
  "kernelspec": {
   "display_name": "Python 3 (ipykernel)",
   "language": "python",
   "name": "python3"
  },
  "language_info": {
   "codemirror_mode": {
    "name": "ipython",
    "version": 3
   },
   "file_extension": ".py",
   "mimetype": "text/x-python",
   "name": "python",
   "nbconvert_exporter": "python",
   "pygments_lexer": "ipython3",
   "version": "3.11.5"
  },
  "toc": {
   "base_numbering": 1,
   "nav_menu": {},
   "number_sections": false,
   "sideBar": true,
   "skip_h1_title": true,
   "title_cell": "Índice",
   "title_sidebar": "Conteúdo",
   "toc_cell": false,
   "toc_position": {},
   "toc_section_display": true,
   "toc_window_display": false
  },
  "varInspector": {
   "cols": {
    "lenName": 16,
    "lenType": 16,
    "lenVar": 40
   },
   "kernels_config": {
    "python": {
     "delete_cmd_postfix": "",
     "delete_cmd_prefix": "del ",
     "library": "var_list.py",
     "varRefreshCmd": "print(var_dic_list())"
    },
    "r": {
     "delete_cmd_postfix": ") ",
     "delete_cmd_prefix": "rm(",
     "library": "var_list.r",
     "varRefreshCmd": "cat(var_dic_list()) "
    }
   },
   "types_to_exclude": [
    "module",
    "function",
    "builtin_function_or_method",
    "instance",
    "_Feature"
   ],
   "window_display": false
  }
 },
 "nbformat": 4,
 "nbformat_minor": 4
}
