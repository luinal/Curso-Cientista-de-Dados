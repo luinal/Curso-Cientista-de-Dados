{
 "cells": [
  {
   "cell_type": "markdown",
   "metadata": {},
   "source": [
    "# Índice <a name=\"Contents\"></a>\n",
    "1. [Importando bibliotecas](#import)\n",
    "2. [Construindo um dataframe](#read)\n",
    "3. [Renomeando colunas](#colunas)\n",
    "4. [Renomeando índices](#indices)\n"
   ]
  },
  {
   "cell_type": "markdown",
   "metadata": {},
   "source": [
    "# 1. Importando bibliotecas <a name=\"import\"></a>\n",
    "\n",
    "<div style=\"text-align: right\"\n",
    "     \n",
    "[Voltar ao índice](#Contents)"
   ]
  },
  {
   "cell_type": "code",
   "execution_count": 1,
   "metadata": {
    "ExecuteTime": {
     "end_time": "2021-05-29T14:18:04.136132Z",
     "start_time": "2021-05-29T14:18:03.798217Z"
    }
   },
   "outputs": [
    {
     "name": "stderr",
     "output_type": "stream",
     "text": [
      "E:\\Anaconda\\Lib\\site-packages\\pandas\\core\\arrays\\masked.py:60: UserWarning: Pandas requires version '1.3.6' or newer of 'bottleneck' (version '1.3.5' currently installed).\n",
      "  from pandas.core import (\n"
     ]
    }
   ],
   "source": [
    "import pandas as pd\n",
    "import numpy  as np"
   ]
  },
  {
   "cell_type": "markdown",
   "metadata": {},
   "source": [
    "# 2. Construindo um dataframe <a name=\"read\"></a>\n",
    "<div style=\"text-align: right\"\n",
    "     \n",
    "[Voltar ao índice](#Contents)"
   ]
  },
  {
   "cell_type": "code",
   "execution_count": 2,
   "metadata": {
    "ExecuteTime": {
     "end_time": "2021-05-29T14:23:40.062246Z",
     "start_time": "2021-05-29T14:23:40.048255Z"
    }
   },
   "outputs": [
    {
     "data": {
      "text/html": [
       "<div>\n",
       "<style scoped>\n",
       "    .dataframe tbody tr th:only-of-type {\n",
       "        vertical-align: middle;\n",
       "    }\n",
       "\n",
       "    .dataframe tbody tr th {\n",
       "        vertical-align: top;\n",
       "    }\n",
       "\n",
       "    .dataframe thead th {\n",
       "        text-align: right;\n",
       "    }\n",
       "</style>\n",
       "<table border=\"1\" class=\"dataframe\">\n",
       "  <thead>\n",
       "    <tr style=\"text-align: right;\">\n",
       "      <th></th>\n",
       "      <th>coluna1</th>\n",
       "      <th>coluna2</th>\n",
       "      <th>coluna3</th>\n",
       "      <th>coluna4</th>\n",
       "    </tr>\n",
       "  </thead>\n",
       "  <tbody>\n",
       "    <tr>\n",
       "      <th>A</th>\n",
       "      <td>-279.011773</td>\n",
       "      <td>87.434857</td>\n",
       "      <td>-8.213640</td>\n",
       "      <td>35.615651</td>\n",
       "    </tr>\n",
       "    <tr>\n",
       "      <th>B</th>\n",
       "      <td>-12.930488</td>\n",
       "      <td>-103.798956</td>\n",
       "      <td>-66.528697</td>\n",
       "      <td>213.897202</td>\n",
       "    </tr>\n",
       "    <tr>\n",
       "      <th>C</th>\n",
       "      <td>-16.537244</td>\n",
       "      <td>12.748686</td>\n",
       "      <td>-88.030559</td>\n",
       "      <td>41.635776</td>\n",
       "    </tr>\n",
       "    <tr>\n",
       "      <th>D</th>\n",
       "      <td>-26.130581</td>\n",
       "      <td>-47.589488</td>\n",
       "      <td>63.801347</td>\n",
       "      <td>235.322670</td>\n",
       "    </tr>\n",
       "    <tr>\n",
       "      <th>E</th>\n",
       "      <td>44.347522</td>\n",
       "      <td>7.158262</td>\n",
       "      <td>39.250676</td>\n",
       "      <td>-7.143455</td>\n",
       "    </tr>\n",
       "    <tr>\n",
       "      <th>F</th>\n",
       "      <td>149.387786</td>\n",
       "      <td>-130.173559</td>\n",
       "      <td>-90.276674</td>\n",
       "      <td>-33.889053</td>\n",
       "    </tr>\n",
       "    <tr>\n",
       "      <th>G</th>\n",
       "      <td>149.223048</td>\n",
       "      <td>-11.272411</td>\n",
       "      <td>63.500902</td>\n",
       "      <td>24.161977</td>\n",
       "    </tr>\n",
       "    <tr>\n",
       "      <th>H</th>\n",
       "      <td>128.502593</td>\n",
       "      <td>-13.137747</td>\n",
       "      <td>151.444181</td>\n",
       "      <td>30.219783</td>\n",
       "    </tr>\n",
       "    <tr>\n",
       "      <th>I</th>\n",
       "      <td>-49.266839</td>\n",
       "      <td>128.595692</td>\n",
       "      <td>14.476291</td>\n",
       "      <td>59.836646</td>\n",
       "    </tr>\n",
       "  </tbody>\n",
       "</table>\n",
       "</div>"
      ],
      "text/plain": [
       "      coluna1     coluna2     coluna3     coluna4\n",
       "A -279.011773   87.434857   -8.213640   35.615651\n",
       "B  -12.930488 -103.798956  -66.528697  213.897202\n",
       "C  -16.537244   12.748686  -88.030559   41.635776\n",
       "D  -26.130581  -47.589488   63.801347  235.322670\n",
       "E   44.347522    7.158262   39.250676   -7.143455\n",
       "F  149.387786 -130.173559  -90.276674  -33.889053\n",
       "G  149.223048  -11.272411   63.500902   24.161977\n",
       "H  128.502593  -13.137747  151.444181   30.219783\n",
       "I  -49.266839  128.595692   14.476291   59.836646"
      ]
     },
     "execution_count": 2,
     "metadata": {},
     "output_type": "execute_result"
    }
   ],
   "source": [
    "df = pd.DataFrame(\n",
    "    np.random.randn(9, 4)*100,\n",
    "    index=[\"A\", \"B\", \"C\", \"D\", \"E\", \"F\", \"G\", \"H\", \"I\"],\n",
    "    columns=[\"coluna1\", \"coluna2\", \"coluna3\",\"coluna4\"],\n",
    ")\n",
    "df"
   ]
  },
  {
   "cell_type": "markdown",
   "metadata": {},
   "source": [
    "# 3. Renomeando colunas <a name=\"colunas\"></a>\n",
    "<div style=\"text-align: right\"\n",
    "     \n",
    "[Voltar ao índice](#Contents)"
   ]
  },
  {
   "cell_type": "code",
   "execution_count": 3,
   "metadata": {
    "ExecuteTime": {
     "end_time": "2021-05-29T14:23:54.029190Z",
     "start_time": "2021-05-29T14:23:54.019195Z"
    }
   },
   "outputs": [
    {
     "data": {
      "text/plain": [
       "Index(['coluna1', 'coluna2', 'coluna3', 'coluna4'], dtype='object')"
      ]
     },
     "execution_count": 3,
     "metadata": {},
     "output_type": "execute_result"
    }
   ],
   "source": [
    "df.columns"
   ]
  },
  {
   "cell_type": "code",
   "execution_count": 4,
   "metadata": {
    "ExecuteTime": {
     "end_time": "2021-05-29T14:25:02.422780Z",
     "start_time": "2021-05-29T14:25:02.404790Z"
    }
   },
   "outputs": [],
   "source": [
    "df.columns = ['segunda', 'terça', 'quarta', 'quinta']"
   ]
  },
  {
   "cell_type": "code",
   "execution_count": 5,
   "metadata": {
    "ExecuteTime": {
     "end_time": "2021-05-29T14:25:07.787193Z",
     "start_time": "2021-05-29T14:25:07.777200Z"
    }
   },
   "outputs": [
    {
     "data": {
      "text/plain": [
       "Index(['segunda', 'terça', 'quarta', 'quinta'], dtype='object')"
      ]
     },
     "execution_count": 5,
     "metadata": {},
     "output_type": "execute_result"
    }
   ],
   "source": [
    "df.columns"
   ]
  },
  {
   "cell_type": "code",
   "execution_count": 6,
   "metadata": {
    "ExecuteTime": {
     "end_time": "2021-05-29T14:25:10.544938Z",
     "start_time": "2021-05-29T14:25:10.535941Z"
    }
   },
   "outputs": [
    {
     "data": {
      "text/html": [
       "<div>\n",
       "<style scoped>\n",
       "    .dataframe tbody tr th:only-of-type {\n",
       "        vertical-align: middle;\n",
       "    }\n",
       "\n",
       "    .dataframe tbody tr th {\n",
       "        vertical-align: top;\n",
       "    }\n",
       "\n",
       "    .dataframe thead th {\n",
       "        text-align: right;\n",
       "    }\n",
       "</style>\n",
       "<table border=\"1\" class=\"dataframe\">\n",
       "  <thead>\n",
       "    <tr style=\"text-align: right;\">\n",
       "      <th></th>\n",
       "      <th>segunda</th>\n",
       "      <th>terça</th>\n",
       "      <th>quarta</th>\n",
       "      <th>quinta</th>\n",
       "    </tr>\n",
       "  </thead>\n",
       "  <tbody>\n",
       "    <tr>\n",
       "      <th>A</th>\n",
       "      <td>-279.011773</td>\n",
       "      <td>87.434857</td>\n",
       "      <td>-8.213640</td>\n",
       "      <td>35.615651</td>\n",
       "    </tr>\n",
       "    <tr>\n",
       "      <th>B</th>\n",
       "      <td>-12.930488</td>\n",
       "      <td>-103.798956</td>\n",
       "      <td>-66.528697</td>\n",
       "      <td>213.897202</td>\n",
       "    </tr>\n",
       "    <tr>\n",
       "      <th>C</th>\n",
       "      <td>-16.537244</td>\n",
       "      <td>12.748686</td>\n",
       "      <td>-88.030559</td>\n",
       "      <td>41.635776</td>\n",
       "    </tr>\n",
       "    <tr>\n",
       "      <th>D</th>\n",
       "      <td>-26.130581</td>\n",
       "      <td>-47.589488</td>\n",
       "      <td>63.801347</td>\n",
       "      <td>235.322670</td>\n",
       "    </tr>\n",
       "    <tr>\n",
       "      <th>E</th>\n",
       "      <td>44.347522</td>\n",
       "      <td>7.158262</td>\n",
       "      <td>39.250676</td>\n",
       "      <td>-7.143455</td>\n",
       "    </tr>\n",
       "    <tr>\n",
       "      <th>F</th>\n",
       "      <td>149.387786</td>\n",
       "      <td>-130.173559</td>\n",
       "      <td>-90.276674</td>\n",
       "      <td>-33.889053</td>\n",
       "    </tr>\n",
       "    <tr>\n",
       "      <th>G</th>\n",
       "      <td>149.223048</td>\n",
       "      <td>-11.272411</td>\n",
       "      <td>63.500902</td>\n",
       "      <td>24.161977</td>\n",
       "    </tr>\n",
       "    <tr>\n",
       "      <th>H</th>\n",
       "      <td>128.502593</td>\n",
       "      <td>-13.137747</td>\n",
       "      <td>151.444181</td>\n",
       "      <td>30.219783</td>\n",
       "    </tr>\n",
       "    <tr>\n",
       "      <th>I</th>\n",
       "      <td>-49.266839</td>\n",
       "      <td>128.595692</td>\n",
       "      <td>14.476291</td>\n",
       "      <td>59.836646</td>\n",
       "    </tr>\n",
       "  </tbody>\n",
       "</table>\n",
       "</div>"
      ],
      "text/plain": [
       "      segunda       terça      quarta      quinta\n",
       "A -279.011773   87.434857   -8.213640   35.615651\n",
       "B  -12.930488 -103.798956  -66.528697  213.897202\n",
       "C  -16.537244   12.748686  -88.030559   41.635776\n",
       "D  -26.130581  -47.589488   63.801347  235.322670\n",
       "E   44.347522    7.158262   39.250676   -7.143455\n",
       "F  149.387786 -130.173559  -90.276674  -33.889053\n",
       "G  149.223048  -11.272411   63.500902   24.161977\n",
       "H  128.502593  -13.137747  151.444181   30.219783\n",
       "I  -49.266839  128.595692   14.476291   59.836646"
      ]
     },
     "execution_count": 6,
     "metadata": {},
     "output_type": "execute_result"
    }
   ],
   "source": [
    "df"
   ]
  },
  {
   "cell_type": "markdown",
   "metadata": {},
   "source": [
    "# 4. Renomeando índices <a name=\"indices\"></a>\n",
    "<div style=\"text-align: right\"\n",
    "     \n",
    "[Voltar ao índice](#Contents)"
   ]
  },
  {
   "cell_type": "code",
   "execution_count": 7,
   "metadata": {},
   "outputs": [],
   "source": [
    "df['coluna5'] = ['letraA','letraB','letraC','letraD','letraE','letraF','letraG','letraH','letraI']"
   ]
  },
  {
   "cell_type": "code",
   "execution_count": 8,
   "metadata": {
    "ExecuteTime": {
     "end_time": "2021-05-29T14:21:17.731165Z",
     "start_time": "2021-05-29T14:21:17.716176Z"
    }
   },
   "outputs": [
    {
     "data": {
      "text/html": [
       "<div>\n",
       "<style scoped>\n",
       "    .dataframe tbody tr th:only-of-type {\n",
       "        vertical-align: middle;\n",
       "    }\n",
       "\n",
       "    .dataframe tbody tr th {\n",
       "        vertical-align: top;\n",
       "    }\n",
       "\n",
       "    .dataframe thead th {\n",
       "        text-align: right;\n",
       "    }\n",
       "</style>\n",
       "<table border=\"1\" class=\"dataframe\">\n",
       "  <thead>\n",
       "    <tr style=\"text-align: right;\">\n",
       "      <th></th>\n",
       "      <th>segunda</th>\n",
       "      <th>terça</th>\n",
       "      <th>quarta</th>\n",
       "      <th>quinta</th>\n",
       "      <th>coluna5</th>\n",
       "    </tr>\n",
       "  </thead>\n",
       "  <tbody>\n",
       "    <tr>\n",
       "      <th>A</th>\n",
       "      <td>-279.011773</td>\n",
       "      <td>87.434857</td>\n",
       "      <td>-8.213640</td>\n",
       "      <td>35.615651</td>\n",
       "      <td>letraA</td>\n",
       "    </tr>\n",
       "    <tr>\n",
       "      <th>B</th>\n",
       "      <td>-12.930488</td>\n",
       "      <td>-103.798956</td>\n",
       "      <td>-66.528697</td>\n",
       "      <td>213.897202</td>\n",
       "      <td>letraB</td>\n",
       "    </tr>\n",
       "    <tr>\n",
       "      <th>C</th>\n",
       "      <td>-16.537244</td>\n",
       "      <td>12.748686</td>\n",
       "      <td>-88.030559</td>\n",
       "      <td>41.635776</td>\n",
       "      <td>letraC</td>\n",
       "    </tr>\n",
       "    <tr>\n",
       "      <th>D</th>\n",
       "      <td>-26.130581</td>\n",
       "      <td>-47.589488</td>\n",
       "      <td>63.801347</td>\n",
       "      <td>235.322670</td>\n",
       "      <td>letraD</td>\n",
       "    </tr>\n",
       "    <tr>\n",
       "      <th>E</th>\n",
       "      <td>44.347522</td>\n",
       "      <td>7.158262</td>\n",
       "      <td>39.250676</td>\n",
       "      <td>-7.143455</td>\n",
       "      <td>letraE</td>\n",
       "    </tr>\n",
       "    <tr>\n",
       "      <th>F</th>\n",
       "      <td>149.387786</td>\n",
       "      <td>-130.173559</td>\n",
       "      <td>-90.276674</td>\n",
       "      <td>-33.889053</td>\n",
       "      <td>letraF</td>\n",
       "    </tr>\n",
       "    <tr>\n",
       "      <th>G</th>\n",
       "      <td>149.223048</td>\n",
       "      <td>-11.272411</td>\n",
       "      <td>63.500902</td>\n",
       "      <td>24.161977</td>\n",
       "      <td>letraG</td>\n",
       "    </tr>\n",
       "    <tr>\n",
       "      <th>H</th>\n",
       "      <td>128.502593</td>\n",
       "      <td>-13.137747</td>\n",
       "      <td>151.444181</td>\n",
       "      <td>30.219783</td>\n",
       "      <td>letraH</td>\n",
       "    </tr>\n",
       "    <tr>\n",
       "      <th>I</th>\n",
       "      <td>-49.266839</td>\n",
       "      <td>128.595692</td>\n",
       "      <td>14.476291</td>\n",
       "      <td>59.836646</td>\n",
       "      <td>letraI</td>\n",
       "    </tr>\n",
       "  </tbody>\n",
       "</table>\n",
       "</div>"
      ],
      "text/plain": [
       "      segunda       terça      quarta      quinta coluna5\n",
       "A -279.011773   87.434857   -8.213640   35.615651  letraA\n",
       "B  -12.930488 -103.798956  -66.528697  213.897202  letraB\n",
       "C  -16.537244   12.748686  -88.030559   41.635776  letraC\n",
       "D  -26.130581  -47.589488   63.801347  235.322670  letraD\n",
       "E   44.347522    7.158262   39.250676   -7.143455  letraE\n",
       "F  149.387786 -130.173559  -90.276674  -33.889053  letraF\n",
       "G  149.223048  -11.272411   63.500902   24.161977  letraG\n",
       "H  128.502593  -13.137747  151.444181   30.219783  letraH\n",
       "I  -49.266839  128.595692   14.476291   59.836646  letraI"
      ]
     },
     "execution_count": 8,
     "metadata": {},
     "output_type": "execute_result"
    }
   ],
   "source": [
    "df"
   ]
  },
  {
   "cell_type": "code",
   "execution_count": 9,
   "metadata": {
    "ExecuteTime": {
     "end_time": "2021-05-29T14:21:32.095960Z",
     "start_time": "2021-05-29T14:21:32.080969Z"
    }
   },
   "outputs": [
    {
     "data": {
      "text/html": [
       "<div>\n",
       "<style scoped>\n",
       "    .dataframe tbody tr th:only-of-type {\n",
       "        vertical-align: middle;\n",
       "    }\n",
       "\n",
       "    .dataframe tbody tr th {\n",
       "        vertical-align: top;\n",
       "    }\n",
       "\n",
       "    .dataframe thead th {\n",
       "        text-align: right;\n",
       "    }\n",
       "</style>\n",
       "<table border=\"1\" class=\"dataframe\">\n",
       "  <thead>\n",
       "    <tr style=\"text-align: right;\">\n",
       "      <th></th>\n",
       "      <th>segunda</th>\n",
       "      <th>terça</th>\n",
       "      <th>quarta</th>\n",
       "      <th>quinta</th>\n",
       "    </tr>\n",
       "    <tr>\n",
       "      <th>coluna5</th>\n",
       "      <th></th>\n",
       "      <th></th>\n",
       "      <th></th>\n",
       "      <th></th>\n",
       "    </tr>\n",
       "  </thead>\n",
       "  <tbody>\n",
       "    <tr>\n",
       "      <th>letraA</th>\n",
       "      <td>-279.011773</td>\n",
       "      <td>87.434857</td>\n",
       "      <td>-8.213640</td>\n",
       "      <td>35.615651</td>\n",
       "    </tr>\n",
       "    <tr>\n",
       "      <th>letraB</th>\n",
       "      <td>-12.930488</td>\n",
       "      <td>-103.798956</td>\n",
       "      <td>-66.528697</td>\n",
       "      <td>213.897202</td>\n",
       "    </tr>\n",
       "    <tr>\n",
       "      <th>letraC</th>\n",
       "      <td>-16.537244</td>\n",
       "      <td>12.748686</td>\n",
       "      <td>-88.030559</td>\n",
       "      <td>41.635776</td>\n",
       "    </tr>\n",
       "    <tr>\n",
       "      <th>letraD</th>\n",
       "      <td>-26.130581</td>\n",
       "      <td>-47.589488</td>\n",
       "      <td>63.801347</td>\n",
       "      <td>235.322670</td>\n",
       "    </tr>\n",
       "    <tr>\n",
       "      <th>letraE</th>\n",
       "      <td>44.347522</td>\n",
       "      <td>7.158262</td>\n",
       "      <td>39.250676</td>\n",
       "      <td>-7.143455</td>\n",
       "    </tr>\n",
       "    <tr>\n",
       "      <th>letraF</th>\n",
       "      <td>149.387786</td>\n",
       "      <td>-130.173559</td>\n",
       "      <td>-90.276674</td>\n",
       "      <td>-33.889053</td>\n",
       "    </tr>\n",
       "    <tr>\n",
       "      <th>letraG</th>\n",
       "      <td>149.223048</td>\n",
       "      <td>-11.272411</td>\n",
       "      <td>63.500902</td>\n",
       "      <td>24.161977</td>\n",
       "    </tr>\n",
       "    <tr>\n",
       "      <th>letraH</th>\n",
       "      <td>128.502593</td>\n",
       "      <td>-13.137747</td>\n",
       "      <td>151.444181</td>\n",
       "      <td>30.219783</td>\n",
       "    </tr>\n",
       "    <tr>\n",
       "      <th>letraI</th>\n",
       "      <td>-49.266839</td>\n",
       "      <td>128.595692</td>\n",
       "      <td>14.476291</td>\n",
       "      <td>59.836646</td>\n",
       "    </tr>\n",
       "  </tbody>\n",
       "</table>\n",
       "</div>"
      ],
      "text/plain": [
       "            segunda       terça      quarta      quinta\n",
       "coluna5                                                \n",
       "letraA  -279.011773   87.434857   -8.213640   35.615651\n",
       "letraB   -12.930488 -103.798956  -66.528697  213.897202\n",
       "letraC   -16.537244   12.748686  -88.030559   41.635776\n",
       "letraD   -26.130581  -47.589488   63.801347  235.322670\n",
       "letraE    44.347522    7.158262   39.250676   -7.143455\n",
       "letraF   149.387786 -130.173559  -90.276674  -33.889053\n",
       "letraG   149.223048  -11.272411   63.500902   24.161977\n",
       "letraH   128.502593  -13.137747  151.444181   30.219783\n",
       "letraI   -49.266839  128.595692   14.476291   59.836646"
      ]
     },
     "execution_count": 9,
     "metadata": {},
     "output_type": "execute_result"
    }
   ],
   "source": [
    "df.set_index('coluna5')"
   ]
  },
  {
   "cell_type": "code",
   "execution_count": 10,
   "metadata": {
    "ExecuteTime": {
     "end_time": "2021-05-29T14:22:36.756818Z",
     "start_time": "2021-05-29T14:22:36.739827Z"
    }
   },
   "outputs": [
    {
     "data": {
      "text/html": [
       "<div>\n",
       "<style scoped>\n",
       "    .dataframe tbody tr th:only-of-type {\n",
       "        vertical-align: middle;\n",
       "    }\n",
       "\n",
       "    .dataframe tbody tr th {\n",
       "        vertical-align: top;\n",
       "    }\n",
       "\n",
       "    .dataframe thead th {\n",
       "        text-align: right;\n",
       "    }\n",
       "</style>\n",
       "<table border=\"1\" class=\"dataframe\">\n",
       "  <thead>\n",
       "    <tr style=\"text-align: right;\">\n",
       "      <th></th>\n",
       "      <th>segunda</th>\n",
       "      <th>terça</th>\n",
       "      <th>quarta</th>\n",
       "      <th>quinta</th>\n",
       "      <th>coluna5</th>\n",
       "    </tr>\n",
       "  </thead>\n",
       "  <tbody>\n",
       "    <tr>\n",
       "      <th>A</th>\n",
       "      <td>-279.011773</td>\n",
       "      <td>87.434857</td>\n",
       "      <td>-8.213640</td>\n",
       "      <td>35.615651</td>\n",
       "      <td>letraA</td>\n",
       "    </tr>\n",
       "    <tr>\n",
       "      <th>B</th>\n",
       "      <td>-12.930488</td>\n",
       "      <td>-103.798956</td>\n",
       "      <td>-66.528697</td>\n",
       "      <td>213.897202</td>\n",
       "      <td>letraB</td>\n",
       "    </tr>\n",
       "    <tr>\n",
       "      <th>C</th>\n",
       "      <td>-16.537244</td>\n",
       "      <td>12.748686</td>\n",
       "      <td>-88.030559</td>\n",
       "      <td>41.635776</td>\n",
       "      <td>letraC</td>\n",
       "    </tr>\n",
       "    <tr>\n",
       "      <th>D</th>\n",
       "      <td>-26.130581</td>\n",
       "      <td>-47.589488</td>\n",
       "      <td>63.801347</td>\n",
       "      <td>235.322670</td>\n",
       "      <td>letraD</td>\n",
       "    </tr>\n",
       "    <tr>\n",
       "      <th>E</th>\n",
       "      <td>44.347522</td>\n",
       "      <td>7.158262</td>\n",
       "      <td>39.250676</td>\n",
       "      <td>-7.143455</td>\n",
       "      <td>letraE</td>\n",
       "    </tr>\n",
       "    <tr>\n",
       "      <th>F</th>\n",
       "      <td>149.387786</td>\n",
       "      <td>-130.173559</td>\n",
       "      <td>-90.276674</td>\n",
       "      <td>-33.889053</td>\n",
       "      <td>letraF</td>\n",
       "    </tr>\n",
       "    <tr>\n",
       "      <th>G</th>\n",
       "      <td>149.223048</td>\n",
       "      <td>-11.272411</td>\n",
       "      <td>63.500902</td>\n",
       "      <td>24.161977</td>\n",
       "      <td>letraG</td>\n",
       "    </tr>\n",
       "    <tr>\n",
       "      <th>H</th>\n",
       "      <td>128.502593</td>\n",
       "      <td>-13.137747</td>\n",
       "      <td>151.444181</td>\n",
       "      <td>30.219783</td>\n",
       "      <td>letraH</td>\n",
       "    </tr>\n",
       "    <tr>\n",
       "      <th>I</th>\n",
       "      <td>-49.266839</td>\n",
       "      <td>128.595692</td>\n",
       "      <td>14.476291</td>\n",
       "      <td>59.836646</td>\n",
       "      <td>letraI</td>\n",
       "    </tr>\n",
       "  </tbody>\n",
       "</table>\n",
       "</div>"
      ],
      "text/plain": [
       "      segunda       terça      quarta      quinta coluna5\n",
       "A -279.011773   87.434857   -8.213640   35.615651  letraA\n",
       "B  -12.930488 -103.798956  -66.528697  213.897202  letraB\n",
       "C  -16.537244   12.748686  -88.030559   41.635776  letraC\n",
       "D  -26.130581  -47.589488   63.801347  235.322670  letraD\n",
       "E   44.347522    7.158262   39.250676   -7.143455  letraE\n",
       "F  149.387786 -130.173559  -90.276674  -33.889053  letraF\n",
       "G  149.223048  -11.272411   63.500902   24.161977  letraG\n",
       "H  128.502593  -13.137747  151.444181   30.219783  letraH\n",
       "I  -49.266839  128.595692   14.476291   59.836646  letraI"
      ]
     },
     "execution_count": 10,
     "metadata": {},
     "output_type": "execute_result"
    }
   ],
   "source": [
    "df"
   ]
  },
  {
   "cell_type": "code",
   "execution_count": 11,
   "metadata": {
    "ExecuteTime": {
     "end_time": "2021-05-29T14:22:45.637595Z",
     "start_time": "2021-05-29T14:22:45.613607Z"
    }
   },
   "outputs": [
    {
     "data": {
      "text/html": [
       "<div>\n",
       "<style scoped>\n",
       "    .dataframe tbody tr th:only-of-type {\n",
       "        vertical-align: middle;\n",
       "    }\n",
       "\n",
       "    .dataframe tbody tr th {\n",
       "        vertical-align: top;\n",
       "    }\n",
       "\n",
       "    .dataframe thead th {\n",
       "        text-align: right;\n",
       "    }\n",
       "</style>\n",
       "<table border=\"1\" class=\"dataframe\">\n",
       "  <thead>\n",
       "    <tr style=\"text-align: right;\">\n",
       "      <th></th>\n",
       "      <th>index</th>\n",
       "      <th>segunda</th>\n",
       "      <th>terça</th>\n",
       "      <th>quarta</th>\n",
       "      <th>quinta</th>\n",
       "      <th>coluna5</th>\n",
       "    </tr>\n",
       "  </thead>\n",
       "  <tbody>\n",
       "    <tr>\n",
       "      <th>0</th>\n",
       "      <td>A</td>\n",
       "      <td>-279.011773</td>\n",
       "      <td>87.434857</td>\n",
       "      <td>-8.213640</td>\n",
       "      <td>35.615651</td>\n",
       "      <td>letraA</td>\n",
       "    </tr>\n",
       "    <tr>\n",
       "      <th>1</th>\n",
       "      <td>B</td>\n",
       "      <td>-12.930488</td>\n",
       "      <td>-103.798956</td>\n",
       "      <td>-66.528697</td>\n",
       "      <td>213.897202</td>\n",
       "      <td>letraB</td>\n",
       "    </tr>\n",
       "    <tr>\n",
       "      <th>2</th>\n",
       "      <td>C</td>\n",
       "      <td>-16.537244</td>\n",
       "      <td>12.748686</td>\n",
       "      <td>-88.030559</td>\n",
       "      <td>41.635776</td>\n",
       "      <td>letraC</td>\n",
       "    </tr>\n",
       "    <tr>\n",
       "      <th>3</th>\n",
       "      <td>D</td>\n",
       "      <td>-26.130581</td>\n",
       "      <td>-47.589488</td>\n",
       "      <td>63.801347</td>\n",
       "      <td>235.322670</td>\n",
       "      <td>letraD</td>\n",
       "    </tr>\n",
       "    <tr>\n",
       "      <th>4</th>\n",
       "      <td>E</td>\n",
       "      <td>44.347522</td>\n",
       "      <td>7.158262</td>\n",
       "      <td>39.250676</td>\n",
       "      <td>-7.143455</td>\n",
       "      <td>letraE</td>\n",
       "    </tr>\n",
       "    <tr>\n",
       "      <th>5</th>\n",
       "      <td>F</td>\n",
       "      <td>149.387786</td>\n",
       "      <td>-130.173559</td>\n",
       "      <td>-90.276674</td>\n",
       "      <td>-33.889053</td>\n",
       "      <td>letraF</td>\n",
       "    </tr>\n",
       "    <tr>\n",
       "      <th>6</th>\n",
       "      <td>G</td>\n",
       "      <td>149.223048</td>\n",
       "      <td>-11.272411</td>\n",
       "      <td>63.500902</td>\n",
       "      <td>24.161977</td>\n",
       "      <td>letraG</td>\n",
       "    </tr>\n",
       "    <tr>\n",
       "      <th>7</th>\n",
       "      <td>H</td>\n",
       "      <td>128.502593</td>\n",
       "      <td>-13.137747</td>\n",
       "      <td>151.444181</td>\n",
       "      <td>30.219783</td>\n",
       "      <td>letraH</td>\n",
       "    </tr>\n",
       "    <tr>\n",
       "      <th>8</th>\n",
       "      <td>I</td>\n",
       "      <td>-49.266839</td>\n",
       "      <td>128.595692</td>\n",
       "      <td>14.476291</td>\n",
       "      <td>59.836646</td>\n",
       "      <td>letraI</td>\n",
       "    </tr>\n",
       "  </tbody>\n",
       "</table>\n",
       "</div>"
      ],
      "text/plain": [
       "  index     segunda       terça      quarta      quinta coluna5\n",
       "0     A -279.011773   87.434857   -8.213640   35.615651  letraA\n",
       "1     B  -12.930488 -103.798956  -66.528697  213.897202  letraB\n",
       "2     C  -16.537244   12.748686  -88.030559   41.635776  letraC\n",
       "3     D  -26.130581  -47.589488   63.801347  235.322670  letraD\n",
       "4     E   44.347522    7.158262   39.250676   -7.143455  letraE\n",
       "5     F  149.387786 -130.173559  -90.276674  -33.889053  letraF\n",
       "6     G  149.223048  -11.272411   63.500902   24.161977  letraG\n",
       "7     H  128.502593  -13.137747  151.444181   30.219783  letraH\n",
       "8     I  -49.266839  128.595692   14.476291   59.836646  letraI"
      ]
     },
     "execution_count": 11,
     "metadata": {},
     "output_type": "execute_result"
    }
   ],
   "source": [
    "df.reset_index()"
   ]
  },
  {
   "cell_type": "code",
   "execution_count": 12,
   "metadata": {
    "ExecuteTime": {
     "end_time": "2021-05-29T14:23:10.986877Z",
     "start_time": "2021-05-29T14:23:10.978896Z"
    }
   },
   "outputs": [
    {
     "data": {
      "text/html": [
       "<div>\n",
       "<style scoped>\n",
       "    .dataframe tbody tr th:only-of-type {\n",
       "        vertical-align: middle;\n",
       "    }\n",
       "\n",
       "    .dataframe tbody tr th {\n",
       "        vertical-align: top;\n",
       "    }\n",
       "\n",
       "    .dataframe thead th {\n",
       "        text-align: right;\n",
       "    }\n",
       "</style>\n",
       "<table border=\"1\" class=\"dataframe\">\n",
       "  <thead>\n",
       "    <tr style=\"text-align: right;\">\n",
       "      <th></th>\n",
       "      <th>segunda</th>\n",
       "      <th>terça</th>\n",
       "      <th>quarta</th>\n",
       "      <th>quinta</th>\n",
       "      <th>coluna5</th>\n",
       "    </tr>\n",
       "  </thead>\n",
       "  <tbody>\n",
       "    <tr>\n",
       "      <th>0</th>\n",
       "      <td>-279.011773</td>\n",
       "      <td>87.434857</td>\n",
       "      <td>-8.213640</td>\n",
       "      <td>35.615651</td>\n",
       "      <td>letraA</td>\n",
       "    </tr>\n",
       "    <tr>\n",
       "      <th>1</th>\n",
       "      <td>-12.930488</td>\n",
       "      <td>-103.798956</td>\n",
       "      <td>-66.528697</td>\n",
       "      <td>213.897202</td>\n",
       "      <td>letraB</td>\n",
       "    </tr>\n",
       "    <tr>\n",
       "      <th>2</th>\n",
       "      <td>-16.537244</td>\n",
       "      <td>12.748686</td>\n",
       "      <td>-88.030559</td>\n",
       "      <td>41.635776</td>\n",
       "      <td>letraC</td>\n",
       "    </tr>\n",
       "    <tr>\n",
       "      <th>3</th>\n",
       "      <td>-26.130581</td>\n",
       "      <td>-47.589488</td>\n",
       "      <td>63.801347</td>\n",
       "      <td>235.322670</td>\n",
       "      <td>letraD</td>\n",
       "    </tr>\n",
       "    <tr>\n",
       "      <th>4</th>\n",
       "      <td>44.347522</td>\n",
       "      <td>7.158262</td>\n",
       "      <td>39.250676</td>\n",
       "      <td>-7.143455</td>\n",
       "      <td>letraE</td>\n",
       "    </tr>\n",
       "    <tr>\n",
       "      <th>5</th>\n",
       "      <td>149.387786</td>\n",
       "      <td>-130.173559</td>\n",
       "      <td>-90.276674</td>\n",
       "      <td>-33.889053</td>\n",
       "      <td>letraF</td>\n",
       "    </tr>\n",
       "    <tr>\n",
       "      <th>6</th>\n",
       "      <td>149.223048</td>\n",
       "      <td>-11.272411</td>\n",
       "      <td>63.500902</td>\n",
       "      <td>24.161977</td>\n",
       "      <td>letraG</td>\n",
       "    </tr>\n",
       "    <tr>\n",
       "      <th>7</th>\n",
       "      <td>128.502593</td>\n",
       "      <td>-13.137747</td>\n",
       "      <td>151.444181</td>\n",
       "      <td>30.219783</td>\n",
       "      <td>letraH</td>\n",
       "    </tr>\n",
       "    <tr>\n",
       "      <th>8</th>\n",
       "      <td>-49.266839</td>\n",
       "      <td>128.595692</td>\n",
       "      <td>14.476291</td>\n",
       "      <td>59.836646</td>\n",
       "      <td>letraI</td>\n",
       "    </tr>\n",
       "  </tbody>\n",
       "</table>\n",
       "</div>"
      ],
      "text/plain": [
       "      segunda       terça      quarta      quinta coluna5\n",
       "0 -279.011773   87.434857   -8.213640   35.615651  letraA\n",
       "1  -12.930488 -103.798956  -66.528697  213.897202  letraB\n",
       "2  -16.537244   12.748686  -88.030559   41.635776  letraC\n",
       "3  -26.130581  -47.589488   63.801347  235.322670  letraD\n",
       "4   44.347522    7.158262   39.250676   -7.143455  letraE\n",
       "5  149.387786 -130.173559  -90.276674  -33.889053  letraF\n",
       "6  149.223048  -11.272411   63.500902   24.161977  letraG\n",
       "7  128.502593  -13.137747  151.444181   30.219783  letraH\n",
       "8  -49.266839  128.595692   14.476291   59.836646  letraI"
      ]
     },
     "execution_count": 12,
     "metadata": {},
     "output_type": "execute_result"
    }
   ],
   "source": [
    "df.reset_index(drop=True)"
   ]
  },
  {
   "cell_type": "code",
   "execution_count": null,
   "metadata": {},
   "outputs": [],
   "source": []
  },
  {
   "cell_type": "code",
   "execution_count": null,
   "metadata": {},
   "outputs": [],
   "source": []
  },
  {
   "cell_type": "code",
   "execution_count": null,
   "metadata": {},
   "outputs": [],
   "source": []
  },
  {
   "cell_type": "code",
   "execution_count": null,
   "metadata": {},
   "outputs": [],
   "source": []
  }
 ],
 "metadata": {
  "kernelspec": {
   "display_name": "Python 3 (ipykernel)",
   "language": "python",
   "name": "python3"
  },
  "language_info": {
   "codemirror_mode": {
    "name": "ipython",
    "version": 3
   },
   "file_extension": ".py",
   "mimetype": "text/x-python",
   "name": "python",
   "nbconvert_exporter": "python",
   "pygments_lexer": "ipython3",
   "version": "3.11.5"
  },
  "varInspector": {
   "cols": {
    "lenName": 16,
    "lenType": 16,
    "lenVar": 40
   },
   "kernels_config": {
    "python": {
     "delete_cmd_postfix": "",
     "delete_cmd_prefix": "del ",
     "library": "var_list.py",
     "varRefreshCmd": "print(var_dic_list())"
    },
    "r": {
     "delete_cmd_postfix": ") ",
     "delete_cmd_prefix": "rm(",
     "library": "var_list.r",
     "varRefreshCmd": "cat(var_dic_list()) "
    }
   },
   "types_to_exclude": [
    "module",
    "function",
    "builtin_function_or_method",
    "instance",
    "_Feature"
   ],
   "window_display": false
  }
 },
 "nbformat": 4,
 "nbformat_minor": 4
}
