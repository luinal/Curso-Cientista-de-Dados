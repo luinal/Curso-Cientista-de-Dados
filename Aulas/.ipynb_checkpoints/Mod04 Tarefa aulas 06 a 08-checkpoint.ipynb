{
 "cells": [
  {
   "cell_type": "markdown",
   "metadata": {},
   "source": [
    "# Tarefa 03\n",
    "\n",
    "- Leia os enunciados com atenção\n",
    "- Saiba que pode haver mais de uma resposta correta\n",
    "- Insira novas células de código sempre que achar necessário\n",
    "- Em caso de dúvidas, procure os Tutores\n",
    "- Divirta-se :)"
   ]
  },
  {
   "cell_type": "code",
   "execution_count": 1,
   "metadata": {},
   "outputs": [],
   "source": [
    "import pandas as pd\n",
    "import requests"
   ]
  },
  {
   "cell_type": "markdown",
   "metadata": {},
   "source": [
    "####  1) Lendo de APIs\n",
    "Vimos em aula como carregar dados públicos do governo através de um API (*Application Programming Interface*). No exemplo de aula, baixamos os dados de pedidos de verificação de limites (PVL) realizados por estados, e selecionamos apenas aqueles referentes ao estado de São Paulo.\n",
    "\n",
    "1. Repita os mesmos passos feitos em aula, mas selecione os PVLs realizados por municípios no estado do Rio de Janeiro.\n",
    "2. Quais são os três *status* das solicitações mais frequentes na base? Quais são suas frequências?\n",
    "3. Construa uma nova variável que contenha o ano do **status**. Observe que ```data_status``` vem como tipo *object* no **DataFrame**. Dica: você pode usar o método ```.str``` para transformar o tipo da variável em string, em seguida um método como [**slice()**](https://pandas.pydata.org/docs/reference/api/pandas.Series.str.slice.html) ou [**split()**](https://pandas.pydata.org/pandas-docs/stable/reference/api/pandas.Series.str.split.html).\n",
    "4. Indique a frequência de cada ano do campo construído no item (3)."
   ]
  },
  {
   "cell_type": "code",
   "execution_count": 9,
   "metadata": {},
   "outputs": [
    {
     "data": {
      "text/html": [
       "<div>\n",
       "<style scoped>\n",
       "    .dataframe tbody tr th:only-of-type {\n",
       "        vertical-align: middle;\n",
       "    }\n",
       "\n",
       "    .dataframe tbody tr th {\n",
       "        vertical-align: top;\n",
       "    }\n",
       "\n",
       "    .dataframe thead th {\n",
       "        text-align: right;\n",
       "    }\n",
       "</style>\n",
       "<table border=\"1\" class=\"dataframe\">\n",
       "  <thead>\n",
       "    <tr style=\"text-align: right;\">\n",
       "      <th></th>\n",
       "      <th>sigla</th>\n",
       "      <th>razao_social</th>\n",
       "      <th>cnpj</th>\n",
       "      <th>tipo_de_ativo</th>\n",
       "      <th>ano</th>\n",
       "      <th>setor_de_atividade</th>\n",
       "      <th>total_pp</th>\n",
       "      <th>on_pp</th>\n",
       "      <th>pn_pp</th>\n",
       "      <th>aberta_fechada</th>\n",
       "      <th>acordo_de_acionistas_em_vigor</th>\n",
       "      <th>indicado_para_conselho_de_administracao</th>\n",
       "      <th>indicado_para_conselho_fiscal</th>\n",
       "    </tr>\n",
       "  </thead>\n",
       "  <tbody>\n",
       "    <tr>\n",
       "      <th>0</th>\n",
       "      <td>ABICO</td>\n",
       "      <td>ABICO - CIA. DE INVESTIMENTOS ÁRABE E BRASILEIRO</td>\n",
       "      <td>42.470.443/0001-96</td>\n",
       "      <td>PARTICIPAÇÃO ACIONÁRIA</td>\n",
       "      <td>2023</td>\n",
       "      <td>OUTROS SETORES</td>\n",
       "      <td>35.0</td>\n",
       "      <td>35.0</td>\n",
       "      <td>0.0</td>\n",
       "      <td>FECHADA</td>\n",
       "      <td>NÃO</td>\n",
       "      <td>NÃO</td>\n",
       "      <td>NÃO</td>\n",
       "    </tr>\n",
       "    <tr>\n",
       "      <th>1</th>\n",
       "      <td>ABICO</td>\n",
       "      <td>ABICO - CIA. DE INVESTIMENTOS ÁRABE E BRASILEIRO</td>\n",
       "      <td>42.470.443/0001-96</td>\n",
       "      <td>PARTICIPAÇÃO ACIONÁRIA</td>\n",
       "      <td>2022</td>\n",
       "      <td>OUTROS SETORES</td>\n",
       "      <td>35.0</td>\n",
       "      <td>35.0</td>\n",
       "      <td>0.0</td>\n",
       "      <td>FECHADA</td>\n",
       "      <td>NÃO</td>\n",
       "      <td>NÃO</td>\n",
       "      <td>NÃO</td>\n",
       "    </tr>\n",
       "    <tr>\n",
       "      <th>2</th>\n",
       "      <td>ABICO</td>\n",
       "      <td>ABICO - CIA. DE INVESTIMENTOS ÁRABE E BRASILEIRO</td>\n",
       "      <td>42.470.443/0001-96</td>\n",
       "      <td>PARTICIPAÇÃO ACIONÁRIA</td>\n",
       "      <td>2021</td>\n",
       "      <td>OUTROS SETORES</td>\n",
       "      <td>35.0</td>\n",
       "      <td>35.0</td>\n",
       "      <td>0.0</td>\n",
       "      <td>FECHADA</td>\n",
       "      <td>NÃO</td>\n",
       "      <td>NÃO</td>\n",
       "      <td>NÃO</td>\n",
       "    </tr>\n",
       "    <tr>\n",
       "      <th>3</th>\n",
       "      <td>ABICO</td>\n",
       "      <td>ABICO - CIA. DE INVESTIMENTOS ÁRABE E BRASILEIRO</td>\n",
       "      <td>42.470.443/0001-96</td>\n",
       "      <td>PARTICIPAÇÃO ACIONÁRIA</td>\n",
       "      <td>2020</td>\n",
       "      <td>OUTROS SETORES</td>\n",
       "      <td>35.0</td>\n",
       "      <td>35.0</td>\n",
       "      <td>0.0</td>\n",
       "      <td>FECHADA</td>\n",
       "      <td>NÃO</td>\n",
       "      <td>NÃO</td>\n",
       "      <td>NÃO</td>\n",
       "    </tr>\n",
       "    <tr>\n",
       "      <th>4</th>\n",
       "      <td>ABICO</td>\n",
       "      <td>ABICO - CIA. DE INVESTIMENTOS ÁRABE E BRASILEIRO</td>\n",
       "      <td>42.470.443/0001-96</td>\n",
       "      <td>PARTICIPAÇÃO ACIONÁRIA</td>\n",
       "      <td>2019</td>\n",
       "      <td>OUTROS SETORES</td>\n",
       "      <td>35.0</td>\n",
       "      <td>35.0</td>\n",
       "      <td>0.0</td>\n",
       "      <td>FECHADA</td>\n",
       "      <td>NÃO</td>\n",
       "      <td>NÃO</td>\n",
       "      <td>NÃO</td>\n",
       "    </tr>\n",
       "  </tbody>\n",
       "</table>\n",
       "</div>"
      ],
      "text/plain": [
       "   sigla                                      razao_social  \\\n",
       "0  ABICO  ABICO - CIA. DE INVESTIMENTOS ÁRABE E BRASILEIRO   \n",
       "1  ABICO  ABICO - CIA. DE INVESTIMENTOS ÁRABE E BRASILEIRO   \n",
       "2  ABICO  ABICO - CIA. DE INVESTIMENTOS ÁRABE E BRASILEIRO   \n",
       "3  ABICO  ABICO - CIA. DE INVESTIMENTOS ÁRABE E BRASILEIRO   \n",
       "4  ABICO  ABICO - CIA. DE INVESTIMENTOS ÁRABE E BRASILEIRO   \n",
       "\n",
       "                 cnpj           tipo_de_ativo   ano setor_de_atividade  \\\n",
       "0  42.470.443/0001-96  PARTICIPAÇÃO ACIONÁRIA  2023     OUTROS SETORES   \n",
       "1  42.470.443/0001-96  PARTICIPAÇÃO ACIONÁRIA  2022     OUTROS SETORES   \n",
       "2  42.470.443/0001-96  PARTICIPAÇÃO ACIONÁRIA  2021     OUTROS SETORES   \n",
       "3  42.470.443/0001-96  PARTICIPAÇÃO ACIONÁRIA  2020     OUTROS SETORES   \n",
       "4  42.470.443/0001-96  PARTICIPAÇÃO ACIONÁRIA  2019     OUTROS SETORES   \n",
       "\n",
       "   total_pp  on_pp  pn_pp aberta_fechada acordo_de_acionistas_em_vigor  \\\n",
       "0      35.0   35.0    0.0        FECHADA                           NÃO   \n",
       "1      35.0   35.0    0.0        FECHADA                           NÃO   \n",
       "2      35.0   35.0    0.0        FECHADA                           NÃO   \n",
       "3      35.0   35.0    0.0        FECHADA                           NÃO   \n",
       "4      35.0   35.0    0.0        FECHADA                           NÃO   \n",
       "\n",
       "  indicado_para_conselho_de_administracao indicado_para_conselho_fiscal  \n",
       "0                                     NÃO                           NÃO  \n",
       "1                                     NÃO                           NÃO  \n",
       "2                                     NÃO                           NÃO  \n",
       "3                                     NÃO                           NÃO  \n",
       "4                                     NÃO                           NÃO  "
      ]
     },
     "execution_count": 9,
     "metadata": {},
     "output_type": "execute_result"
    }
   ],
   "source": [
    "# 1) Seu código aqui\n",
    "participacoes_acionarias = pd.read_csv(\n",
    "    'https://dadosabertos.bndes.gov.br/dataset/68a85772-df73-4c8b-8b8c-398f494fcca8/resource/10ff2d60-02d1-4619-8e42-24fc2a5927dd/download/renda-variavel-participacoes-acionarias-historico-da-carteira.csv',\n",
    "    sep=';',\n",
    "    decimal=',')\n",
    "participacoes_acionarias.head()"
   ]
  },
  {
   "cell_type": "code",
   "execution_count": 3,
   "metadata": {},
   "outputs": [],
   "source": [
    "# 2) Seu código aqui\n"
   ]
  },
  {
   "cell_type": "code",
   "execution_count": 4,
   "metadata": {},
   "outputs": [],
   "source": [
    "# 3) Seu código aqui\n"
   ]
  },
  {
   "cell_type": "markdown",
   "metadata": {},
   "source": [
    "####  2) Melhorando a interação com o API\n",
    "Observe dois URLs de consultas diferentes, por exemplo o URL utilizado em aula, e o URL feito no exercício anterior. Compare-os e observe as diferenças.\n",
    "\n",
    "1. Faça uma função em Python que recebe como argumento o UF da consulta e o tipo de interessado (```'Estado'```ou ```Município```), e que devolve os dados da consulta no formato *DataFrame*.\n",
    "2. Quantas solicitações para o Estado podem ser consultadas para Minas Gerais com *status* em 'Arquivado por decurso de prazo' estão registradas?\n",
    "3. Qual é o município da Bahia com mais solicitações deferidas?\n",
    "4. Salve um arquivo .csv com os dados de solicitações da Bahia, com interessado = 'Estado'"
   ]
  },
  {
   "cell_type": "code",
   "execution_count": 5,
   "metadata": {},
   "outputs": [],
   "source": [
    "#1) Seu código aqui"
   ]
  },
  {
   "cell_type": "code",
   "execution_count": 6,
   "metadata": {},
   "outputs": [],
   "source": [
    "# 2) Seu código aqui"
   ]
  },
  {
   "cell_type": "code",
   "execution_count": 7,
   "metadata": {},
   "outputs": [],
   "source": [
    "# 3) Seu código aqui"
   ]
  },
  {
   "cell_type": "code",
   "execution_count": 8,
   "metadata": {},
   "outputs": [],
   "source": [
    "# 4) Seu código aqui"
   ]
  }
 ],
 "metadata": {
  "kernelspec": {
   "display_name": "Python 3 (ipykernel)",
   "language": "python",
   "name": "python3"
  },
  "language_info": {
   "codemirror_mode": {
    "name": "ipython",
    "version": 3
   },
   "file_extension": ".py",
   "mimetype": "text/x-python",
   "name": "python",
   "nbconvert_exporter": "python",
   "pygments_lexer": "ipython3",
   "version": "3.11.5"
  }
 },
 "nbformat": 4,
 "nbformat_minor": 4
}
